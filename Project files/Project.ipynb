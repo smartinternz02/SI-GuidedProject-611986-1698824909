{
 "cells": [
  {
   "cell_type": "markdown",
   "id": "a78e376c",
   "metadata": {},
   "source": [
    "### 1.Data collection and Preparation\n",
    "    Collect the dataset\n",
    "    Data Preparation\n",
    "    Exploratory Data Analysis\n",
    "### 2. Descriptive Statistics\n",
    "    Visual Analysis\n",
    "### 3. Model Building\n",
    "    Training the model in multiple algorithms\n",
    "    Testing the model\n",
    "### 4. Performance Testing\n",
    "    Testing model with multiple evaluation metrics\n",
    "### 5. Model Deployment\n",
    "    Save the best model\n",
    "    Integrate with Web Framework"
   ]
  },
  {
   "cell_type": "code",
   "execution_count": 158,
   "id": "ee18a67d",
   "metadata": {},
   "outputs": [
    {
     "name": "stdout",
     "output_type": "stream",
     "text": [
      "Requirement already satisfied: imblearn in c:\\users\\ramir\\anaconda3\\lib\\site-packages (0.0)\n",
      "Requirement already satisfied: imbalanced-learn in c:\\users\\ramir\\anaconda3\\lib\\site-packages (from imblearn) (0.11.0)\n",
      "Requirement already satisfied: threadpoolctl>=2.0.0 in c:\\users\\ramir\\anaconda3\\lib\\site-packages (from imbalanced-learn->imblearn) (2.2.0)\n",
      "Requirement already satisfied: scikit-learn>=1.0.2 in c:\\users\\ramir\\anaconda3\\lib\\site-packages (from imbalanced-learn->imblearn) (1.3.1)\n",
      "Requirement already satisfied: numpy>=1.17.3 in c:\\users\\ramir\\anaconda3\\lib\\site-packages (from imbalanced-learn->imblearn) (1.24.3)\n",
      "Requirement already satisfied: scipy>=1.5.0 in c:\\users\\ramir\\anaconda3\\lib\\site-packages (from imbalanced-learn->imblearn) (1.9.1)\n",
      "Requirement already satisfied: joblib>=1.1.1 in c:\\users\\ramir\\anaconda3\\lib\\site-packages (from imbalanced-learn->imblearn) (1.3.2)\n",
      "Note: you may need to restart the kernel to use updated packages.\n"
     ]
    }
   ],
   "source": [
    "pip install imblearn"
   ]
  },
  {
   "cell_type": "markdown",
   "id": "51999d6b",
   "metadata": {},
   "source": [
    "## 1.Collect the Dataset"
   ]
  },
  {
   "cell_type": "markdown",
   "id": "5e69a5d7",
   "metadata": {},
   "source": [
    "Importing the libraries"
   ]
  },
  {
   "cell_type": "code",
   "execution_count": 13,
   "id": "dc40c023",
   "metadata": {},
   "outputs": [],
   "source": [
    "import numpy as np\n",
    "import pandas as pd\n",
    "import matplotlib.pyplot as plt\n",
    "import seaborn as sns\n",
    "from imblearn.over_sampling import SMOTE\n",
    "from sklearn.model_selection import train_test_split\n",
    "from sklearn.preprocessing import StandardScaler\n",
    "from sklearn.tree import DecisionTreeClassifier\n",
    "from sklearn.linear_model import LogisticRegression\n",
    "from sklearn.neighbors import KNeighborsClassifier\n",
    "from sklearn.ensemble import RandomForestClassifier\n",
    "from sklearn.svm import SVC\n",
    "from xgboost import XGBClassifier\n",
    "from sklearn.metrics import classification_report,confusion_matrix,accuracy_score,roc_curve,auc\n",
    "import pickle\n",
    "from scipy import stats"
   ]
  },
  {
   "cell_type": "code",
   "execution_count": 14,
   "id": "19b0acae",
   "metadata": {},
   "outputs": [],
   "source": [
    "import warnings \n",
    "warnings.filterwarnings('ignore')"
   ]
  },
  {
   "cell_type": "code",
   "execution_count": 15,
   "id": "cc6c67f9",
   "metadata": {},
   "outputs": [],
   "source": [
    "data = pd.read_csv(\"C:\\Internship\\self\\Airline_Reviews.csv\")"
   ]
  },
  {
   "cell_type": "code",
   "execution_count": 16,
   "id": "865ef585",
   "metadata": {},
   "outputs": [
    {
     "data": {
      "text/html": [
       "<div>\n",
       "<style scoped>\n",
       "    .dataframe tbody tr th:only-of-type {\n",
       "        vertical-align: middle;\n",
       "    }\n",
       "\n",
       "    .dataframe tbody tr th {\n",
       "        vertical-align: top;\n",
       "    }\n",
       "\n",
       "    .dataframe thead th {\n",
       "        text-align: right;\n",
       "    }\n",
       "</style>\n",
       "<table border=\"1\" class=\"dataframe\">\n",
       "  <thead>\n",
       "    <tr style=\"text-align: right;\">\n",
       "      <th></th>\n",
       "      <th>Unnamed: 0</th>\n",
       "      <th>Airline Name</th>\n",
       "      <th>Overall_Rating</th>\n",
       "      <th>Review_Title</th>\n",
       "      <th>Review Date</th>\n",
       "      <th>Verified</th>\n",
       "      <th>Review</th>\n",
       "      <th>Aircraft</th>\n",
       "      <th>Type Of Traveller</th>\n",
       "      <th>Seat Type</th>\n",
       "      <th>Route</th>\n",
       "      <th>Date Flown</th>\n",
       "      <th>Seat Comfort</th>\n",
       "      <th>Cabin Staff Service</th>\n",
       "      <th>Food &amp; Beverages</th>\n",
       "      <th>Ground Service</th>\n",
       "      <th>Inflight Entertainment</th>\n",
       "      <th>Wifi &amp; Connectivity</th>\n",
       "      <th>Value For Money</th>\n",
       "      <th>Recommended</th>\n",
       "    </tr>\n",
       "  </thead>\n",
       "  <tbody>\n",
       "    <tr>\n",
       "      <th>0</th>\n",
       "      <td>0</td>\n",
       "      <td>AB Aviation</td>\n",
       "      <td>9</td>\n",
       "      <td>\"pretty decent airline\"</td>\n",
       "      <td>11th November 2019</td>\n",
       "      <td>True</td>\n",
       "      <td>Moroni to Moheli. Turned out to be a pretty ...</td>\n",
       "      <td>NaN</td>\n",
       "      <td>Solo Leisure</td>\n",
       "      <td>Economy Class</td>\n",
       "      <td>Moroni to Moheli</td>\n",
       "      <td>November 2019</td>\n",
       "      <td>4.0</td>\n",
       "      <td>5.0</td>\n",
       "      <td>4.0</td>\n",
       "      <td>4.0</td>\n",
       "      <td>NaN</td>\n",
       "      <td>NaN</td>\n",
       "      <td>3.0</td>\n",
       "      <td>yes</td>\n",
       "    </tr>\n",
       "    <tr>\n",
       "      <th>1</th>\n",
       "      <td>1</td>\n",
       "      <td>AB Aviation</td>\n",
       "      <td>1</td>\n",
       "      <td>\"Not a good airline\"</td>\n",
       "      <td>25th June 2019</td>\n",
       "      <td>True</td>\n",
       "      <td>Moroni to Anjouan. It is a very small airline...</td>\n",
       "      <td>E120</td>\n",
       "      <td>Solo Leisure</td>\n",
       "      <td>Economy Class</td>\n",
       "      <td>Moroni to Anjouan</td>\n",
       "      <td>June 2019</td>\n",
       "      <td>2.0</td>\n",
       "      <td>2.0</td>\n",
       "      <td>1.0</td>\n",
       "      <td>1.0</td>\n",
       "      <td>NaN</td>\n",
       "      <td>NaN</td>\n",
       "      <td>2.0</td>\n",
       "      <td>no</td>\n",
       "    </tr>\n",
       "    <tr>\n",
       "      <th>2</th>\n",
       "      <td>2</td>\n",
       "      <td>AB Aviation</td>\n",
       "      <td>1</td>\n",
       "      <td>\"flight was fortunately short\"</td>\n",
       "      <td>25th June 2019</td>\n",
       "      <td>True</td>\n",
       "      <td>Anjouan to Dzaoudzi. A very small airline an...</td>\n",
       "      <td>Embraer E120</td>\n",
       "      <td>Solo Leisure</td>\n",
       "      <td>Economy Class</td>\n",
       "      <td>Anjouan to Dzaoudzi</td>\n",
       "      <td>June 2019</td>\n",
       "      <td>2.0</td>\n",
       "      <td>1.0</td>\n",
       "      <td>1.0</td>\n",
       "      <td>1.0</td>\n",
       "      <td>NaN</td>\n",
       "      <td>NaN</td>\n",
       "      <td>2.0</td>\n",
       "      <td>no</td>\n",
       "    </tr>\n",
       "    <tr>\n",
       "      <th>3</th>\n",
       "      <td>3</td>\n",
       "      <td>Adria Airways</td>\n",
       "      <td>1</td>\n",
       "      <td>\"I will never fly again with Adria\"</td>\n",
       "      <td>28th September 2019</td>\n",
       "      <td>False</td>\n",
       "      <td>Please do a favor yourself and do not fly wi...</td>\n",
       "      <td>NaN</td>\n",
       "      <td>Solo Leisure</td>\n",
       "      <td>Economy Class</td>\n",
       "      <td>Frankfurt to Pristina</td>\n",
       "      <td>September 2019</td>\n",
       "      <td>1.0</td>\n",
       "      <td>1.0</td>\n",
       "      <td>NaN</td>\n",
       "      <td>1.0</td>\n",
       "      <td>NaN</td>\n",
       "      <td>NaN</td>\n",
       "      <td>1.0</td>\n",
       "      <td>no</td>\n",
       "    </tr>\n",
       "    <tr>\n",
       "      <th>4</th>\n",
       "      <td>4</td>\n",
       "      <td>Adria Airways</td>\n",
       "      <td>1</td>\n",
       "      <td>\"it ruined our last days of holidays\"</td>\n",
       "      <td>24th September 2019</td>\n",
       "      <td>True</td>\n",
       "      <td>Do not book a flight with this airline! My fr...</td>\n",
       "      <td>NaN</td>\n",
       "      <td>Couple Leisure</td>\n",
       "      <td>Economy Class</td>\n",
       "      <td>Sofia to Amsterdam via Ljubljana</td>\n",
       "      <td>September 2019</td>\n",
       "      <td>1.0</td>\n",
       "      <td>1.0</td>\n",
       "      <td>1.0</td>\n",
       "      <td>1.0</td>\n",
       "      <td>1.0</td>\n",
       "      <td>1.0</td>\n",
       "      <td>1.0</td>\n",
       "      <td>no</td>\n",
       "    </tr>\n",
       "  </tbody>\n",
       "</table>\n",
       "</div>"
      ],
      "text/plain": [
       "   Unnamed: 0   Airline Name Overall_Rating  \\\n",
       "0           0    AB Aviation              9   \n",
       "1           1    AB Aviation              1   \n",
       "2           2    AB Aviation              1   \n",
       "3           3  Adria Airways              1   \n",
       "4           4  Adria Airways              1   \n",
       "\n",
       "                            Review_Title          Review Date  Verified  \\\n",
       "0                \"pretty decent airline\"   11th November 2019      True   \n",
       "1                   \"Not a good airline\"       25th June 2019      True   \n",
       "2         \"flight was fortunately short\"       25th June 2019      True   \n",
       "3    \"I will never fly again with Adria\"  28th September 2019     False   \n",
       "4  \"it ruined our last days of holidays\"  24th September 2019      True   \n",
       "\n",
       "                                              Review       Aircraft  \\\n",
       "0    Moroni to Moheli. Turned out to be a pretty ...            NaN   \n",
       "1   Moroni to Anjouan. It is a very small airline...           E120   \n",
       "2    Anjouan to Dzaoudzi. A very small airline an...  Embraer E120    \n",
       "3    Please do a favor yourself and do not fly wi...            NaN   \n",
       "4   Do not book a flight with this airline! My fr...            NaN   \n",
       "\n",
       "  Type Of Traveller      Seat Type                             Route  \\\n",
       "0      Solo Leisure  Economy Class                  Moroni to Moheli   \n",
       "1      Solo Leisure  Economy Class                 Moroni to Anjouan   \n",
       "2      Solo Leisure  Economy Class               Anjouan to Dzaoudzi   \n",
       "3      Solo Leisure  Economy Class             Frankfurt to Pristina   \n",
       "4    Couple Leisure  Economy Class  Sofia to Amsterdam via Ljubljana   \n",
       "\n",
       "       Date Flown  Seat Comfort  Cabin Staff Service  Food & Beverages  \\\n",
       "0   November 2019           4.0                  5.0               4.0   \n",
       "1       June 2019           2.0                  2.0               1.0   \n",
       "2       June 2019           2.0                  1.0               1.0   \n",
       "3  September 2019           1.0                  1.0               NaN   \n",
       "4  September 2019           1.0                  1.0               1.0   \n",
       "\n",
       "   Ground Service  Inflight Entertainment  Wifi & Connectivity  \\\n",
       "0             4.0                     NaN                  NaN   \n",
       "1             1.0                     NaN                  NaN   \n",
       "2             1.0                     NaN                  NaN   \n",
       "3             1.0                     NaN                  NaN   \n",
       "4             1.0                     1.0                  1.0   \n",
       "\n",
       "   Value For Money Recommended  \n",
       "0              3.0         yes  \n",
       "1              2.0          no  \n",
       "2              2.0          no  \n",
       "3              1.0          no  \n",
       "4              1.0          no  "
      ]
     },
     "execution_count": 16,
     "metadata": {},
     "output_type": "execute_result"
    }
   ],
   "source": [
    "data.head()"
   ]
  },
  {
   "cell_type": "code",
   "execution_count": 17,
   "id": "e30662a1",
   "metadata": {},
   "outputs": [
    {
     "data": {
      "text/html": [
       "<div>\n",
       "<style scoped>\n",
       "    .dataframe tbody tr th:only-of-type {\n",
       "        vertical-align: middle;\n",
       "    }\n",
       "\n",
       "    .dataframe tbody tr th {\n",
       "        vertical-align: top;\n",
       "    }\n",
       "\n",
       "    .dataframe thead th {\n",
       "        text-align: right;\n",
       "    }\n",
       "</style>\n",
       "<table border=\"1\" class=\"dataframe\">\n",
       "  <thead>\n",
       "    <tr style=\"text-align: right;\">\n",
       "      <th></th>\n",
       "      <th>Unnamed: 0</th>\n",
       "      <th>Airline Name</th>\n",
       "      <th>Overall_Rating</th>\n",
       "      <th>Review_Title</th>\n",
       "      <th>Review Date</th>\n",
       "      <th>Verified</th>\n",
       "      <th>Review</th>\n",
       "      <th>Aircraft</th>\n",
       "      <th>Type Of Traveller</th>\n",
       "      <th>Seat Type</th>\n",
       "      <th>Route</th>\n",
       "      <th>Date Flown</th>\n",
       "      <th>Seat Comfort</th>\n",
       "      <th>Cabin Staff Service</th>\n",
       "      <th>Food &amp; Beverages</th>\n",
       "      <th>Ground Service</th>\n",
       "      <th>Inflight Entertainment</th>\n",
       "      <th>Wifi &amp; Connectivity</th>\n",
       "      <th>Value For Money</th>\n",
       "      <th>Recommended</th>\n",
       "    </tr>\n",
       "  </thead>\n",
       "  <tbody>\n",
       "    <tr>\n",
       "      <th>2921</th>\n",
       "      <td>2921</td>\n",
       "      <td>Air Tahiti Nui</td>\n",
       "      <td>7</td>\n",
       "      <td>\"the airline did its job\"</td>\n",
       "      <td>11th January 2016</td>\n",
       "      <td>False</td>\n",
       "      <td>The A340 was Nuku Hiva, the youngest of the Ai...</td>\n",
       "      <td>A340-300</td>\n",
       "      <td>Couple Leisure</td>\n",
       "      <td>Business Class</td>\n",
       "      <td>PPT to LAX</td>\n",
       "      <td>December 2015</td>\n",
       "      <td>4.0</td>\n",
       "      <td>4.0</td>\n",
       "      <td>4.0</td>\n",
       "      <td>4.0</td>\n",
       "      <td>NaN</td>\n",
       "      <td>NaN</td>\n",
       "      <td>4.0</td>\n",
       "      <td>yes</td>\n",
       "    </tr>\n",
       "  </tbody>\n",
       "</table>\n",
       "</div>"
      ],
      "text/plain": [
       "      Unnamed: 0    Airline Name Overall_Rating               Review_Title  \\\n",
       "2921        2921  Air Tahiti Nui              7  \"the airline did its job\"   \n",
       "\n",
       "            Review Date  Verified  \\\n",
       "2921  11th January 2016     False   \n",
       "\n",
       "                                                 Review  Aircraft  \\\n",
       "2921  The A340 was Nuku Hiva, the youngest of the Ai...  A340-300   \n",
       "\n",
       "     Type Of Traveller       Seat Type       Route     Date Flown  \\\n",
       "2921    Couple Leisure  Business Class  PPT to LAX  December 2015   \n",
       "\n",
       "      Seat Comfort  Cabin Staff Service  Food & Beverages  Ground Service  \\\n",
       "2921           4.0                  4.0               4.0             4.0   \n",
       "\n",
       "      Inflight Entertainment  Wifi & Connectivity  Value For Money Recommended  \n",
       "2921                     NaN                  NaN              4.0         yes  "
      ]
     },
     "execution_count": 17,
     "metadata": {},
     "output_type": "execute_result"
    }
   ],
   "source": [
    "data.sample()"
   ]
  },
  {
   "cell_type": "code",
   "execution_count": 18,
   "id": "54d024e8",
   "metadata": {},
   "outputs": [
    {
     "name": "stdout",
     "output_type": "stream",
     "text": [
      "<class 'pandas.core.frame.DataFrame'>\n",
      "RangeIndex: 23171 entries, 0 to 23170\n",
      "Data columns (total 20 columns):\n",
      " #   Column                  Non-Null Count  Dtype  \n",
      "---  ------                  --------------  -----  \n",
      " 0   Unnamed: 0              23171 non-null  int64  \n",
      " 1   Airline Name            23171 non-null  object \n",
      " 2   Overall_Rating          23171 non-null  object \n",
      " 3   Review_Title            23171 non-null  object \n",
      " 4   Review Date             23171 non-null  object \n",
      " 5   Verified                23171 non-null  bool   \n",
      " 6   Review                  23171 non-null  object \n",
      " 7   Aircraft                7129 non-null   object \n",
      " 8   Type Of Traveller       19433 non-null  object \n",
      " 9   Seat Type               22075 non-null  object \n",
      " 10  Route                   19343 non-null  object \n",
      " 11  Date Flown              19417 non-null  object \n",
      " 12  Seat Comfort            19016 non-null  float64\n",
      " 13  Cabin Staff Service     18911 non-null  float64\n",
      " 14  Food & Beverages        14500 non-null  float64\n",
      " 15  Ground Service          18378 non-null  float64\n",
      " 16  Inflight Entertainment  10829 non-null  float64\n",
      " 17  Wifi & Connectivity     5920 non-null   float64\n",
      " 18  Value For Money         22105 non-null  float64\n",
      " 19  Recommended             23171 non-null  object \n",
      "dtypes: bool(1), float64(7), int64(1), object(11)\n",
      "memory usage: 3.4+ MB\n"
     ]
    }
   ],
   "source": [
    "data.info()"
   ]
  },
  {
   "cell_type": "code",
   "execution_count": 19,
   "id": "dc938098",
   "metadata": {},
   "outputs": [
    {
     "data": {
      "text/html": [
       "<div>\n",
       "<style scoped>\n",
       "    .dataframe tbody tr th:only-of-type {\n",
       "        vertical-align: middle;\n",
       "    }\n",
       "\n",
       "    .dataframe tbody tr th {\n",
       "        vertical-align: top;\n",
       "    }\n",
       "\n",
       "    .dataframe thead th {\n",
       "        text-align: right;\n",
       "    }\n",
       "</style>\n",
       "<table border=\"1\" class=\"dataframe\">\n",
       "  <thead>\n",
       "    <tr style=\"text-align: right;\">\n",
       "      <th></th>\n",
       "      <th>Unnamed: 0</th>\n",
       "      <th>Seat Comfort</th>\n",
       "      <th>Cabin Staff Service</th>\n",
       "      <th>Food &amp; Beverages</th>\n",
       "      <th>Ground Service</th>\n",
       "      <th>Inflight Entertainment</th>\n",
       "      <th>Wifi &amp; Connectivity</th>\n",
       "      <th>Value For Money</th>\n",
       "    </tr>\n",
       "  </thead>\n",
       "  <tbody>\n",
       "    <tr>\n",
       "      <th>count</th>\n",
       "      <td>23171.00000</td>\n",
       "      <td>19016.000000</td>\n",
       "      <td>18911.000000</td>\n",
       "      <td>14500.000000</td>\n",
       "      <td>18378.000000</td>\n",
       "      <td>10829.000000</td>\n",
       "      <td>5920.000000</td>\n",
       "      <td>22105.000000</td>\n",
       "    </tr>\n",
       "    <tr>\n",
       "      <th>mean</th>\n",
       "      <td>11585.00000</td>\n",
       "      <td>2.618321</td>\n",
       "      <td>2.871609</td>\n",
       "      <td>2.553586</td>\n",
       "      <td>2.353738</td>\n",
       "      <td>2.178964</td>\n",
       "      <td>1.780405</td>\n",
       "      <td>2.451120</td>\n",
       "    </tr>\n",
       "    <tr>\n",
       "      <th>std</th>\n",
       "      <td>6689.03588</td>\n",
       "      <td>1.464844</td>\n",
       "      <td>1.604631</td>\n",
       "      <td>1.526314</td>\n",
       "      <td>1.595747</td>\n",
       "      <td>1.488758</td>\n",
       "      <td>1.318800</td>\n",
       "      <td>1.594125</td>\n",
       "    </tr>\n",
       "    <tr>\n",
       "      <th>min</th>\n",
       "      <td>0.00000</td>\n",
       "      <td>0.000000</td>\n",
       "      <td>0.000000</td>\n",
       "      <td>0.000000</td>\n",
       "      <td>1.000000</td>\n",
       "      <td>0.000000</td>\n",
       "      <td>0.000000</td>\n",
       "      <td>0.000000</td>\n",
       "    </tr>\n",
       "    <tr>\n",
       "      <th>25%</th>\n",
       "      <td>5792.50000</td>\n",
       "      <td>1.000000</td>\n",
       "      <td>1.000000</td>\n",
       "      <td>1.000000</td>\n",
       "      <td>1.000000</td>\n",
       "      <td>1.000000</td>\n",
       "      <td>1.000000</td>\n",
       "      <td>1.000000</td>\n",
       "    </tr>\n",
       "    <tr>\n",
       "      <th>50%</th>\n",
       "      <td>11585.00000</td>\n",
       "      <td>3.000000</td>\n",
       "      <td>3.000000</td>\n",
       "      <td>2.000000</td>\n",
       "      <td>1.000000</td>\n",
       "      <td>2.000000</td>\n",
       "      <td>1.000000</td>\n",
       "      <td>2.000000</td>\n",
       "    </tr>\n",
       "    <tr>\n",
       "      <th>75%</th>\n",
       "      <td>17377.50000</td>\n",
       "      <td>4.000000</td>\n",
       "      <td>4.000000</td>\n",
       "      <td>4.000000</td>\n",
       "      <td>4.000000</td>\n",
       "      <td>3.000000</td>\n",
       "      <td>2.000000</td>\n",
       "      <td>4.000000</td>\n",
       "    </tr>\n",
       "    <tr>\n",
       "      <th>max</th>\n",
       "      <td>23170.00000</td>\n",
       "      <td>5.000000</td>\n",
       "      <td>5.000000</td>\n",
       "      <td>5.000000</td>\n",
       "      <td>5.000000</td>\n",
       "      <td>5.000000</td>\n",
       "      <td>5.000000</td>\n",
       "      <td>5.000000</td>\n",
       "    </tr>\n",
       "  </tbody>\n",
       "</table>\n",
       "</div>"
      ],
      "text/plain": [
       "        Unnamed: 0  Seat Comfort  Cabin Staff Service  Food & Beverages  \\\n",
       "count  23171.00000  19016.000000         18911.000000      14500.000000   \n",
       "mean   11585.00000      2.618321             2.871609          2.553586   \n",
       "std     6689.03588      1.464844             1.604631          1.526314   \n",
       "min        0.00000      0.000000             0.000000          0.000000   \n",
       "25%     5792.50000      1.000000             1.000000          1.000000   \n",
       "50%    11585.00000      3.000000             3.000000          2.000000   \n",
       "75%    17377.50000      4.000000             4.000000          4.000000   \n",
       "max    23170.00000      5.000000             5.000000          5.000000   \n",
       "\n",
       "       Ground Service  Inflight Entertainment  Wifi & Connectivity  \\\n",
       "count    18378.000000            10829.000000          5920.000000   \n",
       "mean         2.353738                2.178964             1.780405   \n",
       "std          1.595747                1.488758             1.318800   \n",
       "min          1.000000                0.000000             0.000000   \n",
       "25%          1.000000                1.000000             1.000000   \n",
       "50%          1.000000                2.000000             1.000000   \n",
       "75%          4.000000                3.000000             2.000000   \n",
       "max          5.000000                5.000000             5.000000   \n",
       "\n",
       "       Value For Money  \n",
       "count     22105.000000  \n",
       "mean          2.451120  \n",
       "std           1.594125  \n",
       "min           0.000000  \n",
       "25%           1.000000  \n",
       "50%           2.000000  \n",
       "75%           4.000000  \n",
       "max           5.000000  "
      ]
     },
     "execution_count": 19,
     "metadata": {},
     "output_type": "execute_result"
    }
   ],
   "source": [
    "data.describe()"
   ]
  },
  {
   "cell_type": "code",
   "execution_count": 20,
   "id": "37e2f45d",
   "metadata": {},
   "outputs": [
    {
     "data": {
      "text/plain": [
       "(23171, 20)"
      ]
     },
     "execution_count": 20,
     "metadata": {},
     "output_type": "execute_result"
    }
   ],
   "source": [
    "data.shape"
   ]
  },
  {
   "cell_type": "markdown",
   "id": "d79be234",
   "metadata": {},
   "source": [
    "## 2. Data Preparation--Handling missing values"
   ]
  },
  {
   "cell_type": "code",
   "execution_count": 21,
   "id": "aa9710e5",
   "metadata": {},
   "outputs": [
    {
     "data": {
      "text/plain": [
       "Unnamed: 0                False\n",
       "Airline Name              False\n",
       "Overall_Rating            False\n",
       "Review_Title              False\n",
       "Review Date               False\n",
       "Verified                  False\n",
       "Review                    False\n",
       "Aircraft                   True\n",
       "Type Of Traveller          True\n",
       "Seat Type                  True\n",
       "Route                      True\n",
       "Date Flown                 True\n",
       "Seat Comfort               True\n",
       "Cabin Staff Service        True\n",
       "Food & Beverages           True\n",
       "Ground Service             True\n",
       "Inflight Entertainment     True\n",
       "Wifi & Connectivity        True\n",
       "Value For Money            True\n",
       "Recommended               False\n",
       "dtype: bool"
      ]
     },
     "execution_count": 21,
     "metadata": {},
     "output_type": "execute_result"
    }
   ],
   "source": [
    "data.isnull().any()"
   ]
  },
  {
   "cell_type": "code",
   "execution_count": 22,
   "id": "c21e604d",
   "metadata": {},
   "outputs": [
    {
     "data": {
      "text/plain": [
       "Unnamed: 0                    0\n",
       "Airline Name                  0\n",
       "Overall_Rating                0\n",
       "Review_Title                  0\n",
       "Review Date                   0\n",
       "Verified                      0\n",
       "Review                        0\n",
       "Aircraft                  16042\n",
       "Type Of Traveller          3738\n",
       "Seat Type                  1096\n",
       "Route                      3828\n",
       "Date Flown                 3754\n",
       "Seat Comfort               4155\n",
       "Cabin Staff Service        4260\n",
       "Food & Beverages           8671\n",
       "Ground Service             4793\n",
       "Inflight Entertainment    12342\n",
       "Wifi & Connectivity       17251\n",
       "Value For Money            1066\n",
       "Recommended                   0\n",
       "dtype: int64"
      ]
     },
     "execution_count": 22,
     "metadata": {},
     "output_type": "execute_result"
    }
   ],
   "source": [
    "data.isnull().sum()"
   ]
  },
  {
   "cell_type": "code",
   "execution_count": 23,
   "id": "b97a37fe",
   "metadata": {},
   "outputs": [],
   "source": [
    "new_data = data.drop(['Inflight Entertainment','Wifi & Connectivity','Aircraft','Value For Money',\n",
    "                      'Cabin Staff Service','Unnamed: 0','Review_Title','Review Date','Review'],axis=1)"
   ]
  },
  {
   "cell_type": "code",
   "execution_count": 24,
   "id": "f18d1f0b",
   "metadata": {},
   "outputs": [
    {
     "data": {
      "text/plain": [
       "1    11595\n",
       "2     2296\n",
       "9     1768\n",
       "8     1757\n",
       "3     1356\n",
       "7     1192\n",
       "4      859\n",
       "n      842\n",
       "5      830\n",
       "6      676\n",
       "Name: Overall_Rating, dtype: int64"
      ]
     },
     "execution_count": 24,
     "metadata": {},
     "output_type": "execute_result"
    }
   ],
   "source": [
    "new_data['Overall_Rating'].value_counts()"
   ]
  },
  {
   "cell_type": "code",
   "execution_count": 25,
   "id": "5f9e9429",
   "metadata": {},
   "outputs": [],
   "source": [
    "new_data['Overall_Rating'] = new_data['Overall_Rating'].replace(['1','2','3','4','5','6','7','8','9','n'],['1','2','3','4','5','6','7','8','9','10'])"
   ]
  },
  {
   "cell_type": "code",
   "execution_count": 26,
   "id": "77f75cda",
   "metadata": {},
   "outputs": [
    {
     "data": {
      "text/plain": [
       "1     11595\n",
       "2      2296\n",
       "9      1768\n",
       "8      1757\n",
       "3      1356\n",
       "7      1192\n",
       "4       859\n",
       "10      842\n",
       "5       830\n",
       "6       676\n",
       "Name: Overall_Rating, dtype: int64"
      ]
     },
     "execution_count": 26,
     "metadata": {},
     "output_type": "execute_result"
    }
   ],
   "source": [
    "new_data['Overall_Rating'].value_counts()"
   ]
  },
  {
   "cell_type": "code",
   "execution_count": 27,
   "id": "c13caf5d",
   "metadata": {},
   "outputs": [
    {
     "data": {
      "text/plain": [
       "Airline Name            0\n",
       "Overall_Rating          0\n",
       "Verified                0\n",
       "Type Of Traveller    3738\n",
       "Seat Type            1096\n",
       "Route                3828\n",
       "Date Flown           3754\n",
       "Seat Comfort         4155\n",
       "Food & Beverages     8671\n",
       "Ground Service       4793\n",
       "Recommended             0\n",
       "dtype: int64"
      ]
     },
     "execution_count": 27,
     "metadata": {},
     "output_type": "execute_result"
    }
   ],
   "source": [
    "new_data.isnull().sum()"
   ]
  },
  {
   "cell_type": "code",
   "execution_count": 174,
   "id": "1929c508",
   "metadata": {},
   "outputs": [],
   "source": [
    "# filling null values with median and mode depending on the values(Median for numerical and mode for categorical)"
   ]
  },
  {
   "cell_type": "code",
   "execution_count": 28,
   "id": "32f36679",
   "metadata": {},
   "outputs": [],
   "source": [
    "new_data['Type Of Traveller'] = new_data['Type Of Traveller'].fillna(new_data['Type Of Traveller'].mode()[0])\n",
    "new_data['Seat Type'] = new_data['Seat Type'].fillna(new_data['Seat Type'].mode()[0])\n",
    "new_data['Route'] = new_data['Route'].fillna(new_data['Route'].mode()[0])\n",
    "new_data['Date Flown'] = new_data['Date Flown'].fillna(new_data['Date Flown'].mode()[0])\n",
    "new_data['Seat Comfort'] = new_data['Seat Comfort'].fillna(new_data['Seat Comfort'].mode()[0])\n",
    "new_data['Food & Beverages'] = new_data['Food & Beverages'].fillna(new_data['Food & Beverages'].mode()[0])\n",
    "new_data['Ground Service'] = new_data['Ground Service'].fillna(new_data['Ground Service'].mode()[0])"
   ]
  },
  {
   "cell_type": "markdown",
   "id": "f7e32b5b",
   "metadata": {},
   "source": [
    "For the above columns we are using mode instead of median even though numeric values are present,because the column consists of categories(0 to 5)."
   ]
  },
  {
   "cell_type": "code",
   "execution_count": 29,
   "id": "da71653d",
   "metadata": {},
   "outputs": [
    {
     "data": {
      "text/plain": [
       "Airline Name         0\n",
       "Overall_Rating       0\n",
       "Verified             0\n",
       "Type Of Traveller    0\n",
       "Seat Type            0\n",
       "Route                0\n",
       "Date Flown           0\n",
       "Seat Comfort         0\n",
       "Food & Beverages     0\n",
       "Ground Service       0\n",
       "Recommended          0\n",
       "dtype: int64"
      ]
     },
     "execution_count": 29,
     "metadata": {},
     "output_type": "execute_result"
    }
   ],
   "source": [
    "new_data.isnull().sum()"
   ]
  },
  {
   "cell_type": "code",
   "execution_count": 30,
   "id": "aed8591d",
   "metadata": {},
   "outputs": [],
   "source": [
    "new_data[['Month Flown','Year Flown']] = new_data['Date Flown'].str.split(expand=True)"
   ]
  },
  {
   "cell_type": "markdown",
   "id": "40bfc504",
   "metadata": {},
   "source": [
    "Route column has 3 values i.e.. Place A to Place B via Place C,so inorder to chose we gave indices for Sofia as 0 and Amsterdam  as 1 and then run the split function again to split 'via'."
   ]
  },
  {
   "cell_type": "code",
   "execution_count": 31,
   "id": "209a5d06",
   "metadata": {},
   "outputs": [],
   "source": [
    "new_data['Origin'] = new_data.Route.str.split(' to ',expand=True)[0]\n",
    "new_data['Destination'] = new_data.Route.str.split(' to ',expand=True)[1]\n",
    "\n",
    "new_data['Destination'] = new_data.Destination.str.split(' via ',expand=True)[0]"
   ]
  },
  {
   "cell_type": "code",
   "execution_count": 32,
   "id": "7ea2fa1b",
   "metadata": {},
   "outputs": [],
   "source": [
    "del new_data['Route']\n",
    "del new_data['Date Flown']"
   ]
  },
  {
   "cell_type": "code",
   "execution_count": 34,
   "id": "8e33ec57",
   "metadata": {},
   "outputs": [],
   "source": [
    "new_data['Origin'] = new_data['Origin'].replace(['Tel Avivito Malta (MLA)','Bangalore toChennai','JFK toTLV via Baku','Krabi toBangkok','Hong Kong To Shanghai', \n",
    "                                      'Edinburgh To Fuerteventura','Nuremburg toHamburg','Mumbai toJaipur','Sydney to- New York via Soul', \n",
    "                                      'London Gatwick - Bangkok','SIN toi MFM','Jakartato Yogyakarta','Cardiff-Malta return','KIV-LIS',\n",
    "                                      'GRR-ORD','LCY-FRA','NAP-RMF return','LEB-BOS','Bucharest-Brussels','Da Nang - Hong Kong','New-York',\n",
    "                                      'LHR-DXB','Dublin - Charlotte','Kansas City via Dallas Ft Worth','Sydney via Singapore', \n",
    "                                      'Geneva via Brussels','Nursultan via Dubai','Denpasar Medan via Jakarta',\n",
    "                                      'Auckland Denpasar via Sydney / Melbourne','Lima via Santiago','Manila via Los Angeles', \n",
    "                                      'Dar es Salaam via Kigali','Singapore via Sydney','Grand Rapidsvto Orlando via Chicago', \n",
    "                                      'Toronto via Varadero', 'Bangkok via Mumbai','A Coruna via Bilbao','LHR-DXB', \n",
    "                                       'Paris Orly Los Angeles','Newark Los Angeles','Honolulu Seattle','San {Paulo'],\n",
    "                                      ['Tel Aviv(MLA)','Bangalore','JFK','Krabi','Hong Kong','Edinburgh','Nuremburg','Mumbai', \n",
    "                                       'Sydney','London Gatwick','SIN','Jakarta','Cardiff','KIV','GRR','LCY','NAP','LEB','Bucharest', \n",
    "                                       'Da Nang', 'New York', 'LHR', 'Dublin', 'Kansas City','Sydney','Geneva','Nursultan','Denpasar Medan', \n",
    "                                       'Auckland Denpasar','Lima','Manila', 'Dar es Salaam', 'Singapore', 'Grand Rapidsvto Orlando',\n",
    "                                       'Toronto','Bangkok','A Coruna','LHR','Paris Orly','Newark','Honolulu','San Paulo'])"
   ]
  },
  {
   "cell_type": "code",
   "execution_count": 35,
   "id": "7a2d6307",
   "metadata": {},
   "outputs": [
    {
     "data": {
      "text/plain": [
       "0           Moroni\n",
       "1           Moroni\n",
       "2          Anjouan\n",
       "3        Frankfurt\n",
       "4            Sofia\n",
       "           ...    \n",
       "23166      Bangkok\n",
       "23167    Singapore\n",
       "23168      Bangkok\n",
       "23169        Tokyo\n",
       "23170    Singapore\n",
       "Name: Origin, Length: 23171, dtype: object"
      ]
     },
     "execution_count": 35,
     "metadata": {},
     "output_type": "execute_result"
    }
   ],
   "source": [
    "new_data['Origin']"
   ]
  },
  {
   "cell_type": "code",
   "execution_count": 36,
   "id": "ca65df90",
   "metadata": {},
   "outputs": [
    {
     "data": {
      "text/plain": [
       "0             Moheli\n",
       "1            Anjouan\n",
       "2           Dzaoudzi\n",
       "3           Pristina\n",
       "4          Amsterdam\n",
       "            ...     \n",
       "23166          Tokyo\n",
       "23167          Tokyo\n",
       "23168          Tokyo\n",
       "23169    Los Angeles\n",
       "23170          Tokyo\n",
       "Name: Destination, Length: 23171, dtype: object"
      ]
     },
     "execution_count": 36,
     "metadata": {},
     "output_type": "execute_result"
    }
   ],
   "source": [
    "new_data['Destination']"
   ]
  },
  {
   "cell_type": "code",
   "execution_count": 37,
   "id": "c21b54e8",
   "metadata": {},
   "outputs": [
    {
     "data": {
      "text/plain": [
       "(23171, 13)"
      ]
     },
     "execution_count": 37,
     "metadata": {},
     "output_type": "execute_result"
    }
   ],
   "source": [
    "new_data.shape"
   ]
  },
  {
   "cell_type": "code",
   "execution_count": 38,
   "id": "ebd7c472",
   "metadata": {},
   "outputs": [
    {
     "name": "stdout",
     "output_type": "stream",
     "text": [
      "<class 'pandas.core.frame.DataFrame'>\n",
      "RangeIndex: 23171 entries, 0 to 23170\n",
      "Data columns (total 13 columns):\n",
      " #   Column             Non-Null Count  Dtype  \n",
      "---  ------             --------------  -----  \n",
      " 0   Airline Name       23171 non-null  object \n",
      " 1   Overall_Rating     23171 non-null  object \n",
      " 2   Verified           23171 non-null  bool   \n",
      " 3   Type Of Traveller  23171 non-null  object \n",
      " 4   Seat Type          23171 non-null  object \n",
      " 5   Seat Comfort       23171 non-null  float64\n",
      " 6   Food & Beverages   23171 non-null  float64\n",
      " 7   Ground Service     23171 non-null  float64\n",
      " 8   Recommended        23171 non-null  object \n",
      " 9   Month Flown        23171 non-null  object \n",
      " 10  Year Flown         23171 non-null  object \n",
      " 11  Origin             23171 non-null  object \n",
      " 12  Destination        23133 non-null  object \n",
      "dtypes: bool(1), float64(3), object(9)\n",
      "memory usage: 2.1+ MB\n"
     ]
    }
   ],
   "source": [
    "new_data.info()"
   ]
  },
  {
   "cell_type": "code",
   "execution_count": 39,
   "id": "c3bd6beb",
   "metadata": {},
   "outputs": [
    {
     "data": {
      "text/plain": [
       "Airline Name          0\n",
       "Overall_Rating        0\n",
       "Verified              0\n",
       "Type Of Traveller     0\n",
       "Seat Type             0\n",
       "Seat Comfort          0\n",
       "Food & Beverages      0\n",
       "Ground Service        0\n",
       "Recommended           0\n",
       "Month Flown           0\n",
       "Year Flown            0\n",
       "Origin                0\n",
       "Destination          38\n",
       "dtype: int64"
      ]
     },
     "execution_count": 39,
     "metadata": {},
     "output_type": "execute_result"
    }
   ],
   "source": [
    "new_data.isnull().sum()"
   ]
  },
  {
   "cell_type": "code",
   "execution_count": 40,
   "id": "611a493f",
   "metadata": {},
   "outputs": [],
   "source": [
    "j=0\n",
    "row_num = [2172,3788,5112,5368,7000,8314,9107,10589,12993,17759,20572,\n",
    "           20930,2225,2380,4339,5182,5785,6382,10991,12573,17051,21497,\n",
    "          4293,6215,9787,10207,12372,13556,16022,17217,17732,18774,\n",
    "          19462,20112,22449,11584,10001,12258,10886]\n",
    "new_des = ['Malta','Chennai','TLV','Bangkok','Shanghai','Fuerteventura','Hamburg',\n",
    "          'Jaipur','New York','Bangkok','MFM','Yogyakarta','Malta','LIS','ORD','FRA',\n",
    "          'RMF','BOS','Brussels','Hong Kong','DXB','Charlotte','Dallas Ft Worth',\n",
    "           'Brussels','Dubai','Jakarta','Sydney / Melborne','Santiago','Los Angeles','Kigali',\n",
    "          'Sydney','Chicago','Varadero','Mumbai','Bilbao','Dallas','Los Angeles','Los Angeles','Seattle ']\n",
    "for i in row_num:\n",
    "    new_data.at[i,'Destination'] = new_des[j]\n",
    "    j+=1"
   ]
  },
  {
   "cell_type": "code",
   "execution_count": 41,
   "id": "8d28d287",
   "metadata": {},
   "outputs": [
    {
     "data": {
      "text/plain": [
       "Airline Name         0\n",
       "Overall_Rating       0\n",
       "Verified             0\n",
       "Type Of Traveller    0\n",
       "Seat Type            0\n",
       "Seat Comfort         0\n",
       "Food & Beverages     0\n",
       "Ground Service       0\n",
       "Recommended          0\n",
       "Month Flown          0\n",
       "Year Flown           0\n",
       "Origin               0\n",
       "Destination          0\n",
       "dtype: int64"
      ]
     },
     "execution_count": 41,
     "metadata": {},
     "output_type": "execute_result"
    }
   ],
   "source": [
    "new_data.isnull().sum()"
   ]
  },
  {
   "cell_type": "code",
   "execution_count": 43,
   "id": "ef03f216",
   "metadata": {},
   "outputs": [],
   "source": [
    "new_order = ['Airline Name','Seat Type','Type Of Traveller','Origin',\n",
    "             'Destination','Month Flown','Year Flown','Verified','Seat Comfort',\n",
    "             'Food & Beverages','Ground Service','Overall_Rating','Recommended']"
   ]
  },
  {
   "cell_type": "code",
   "execution_count": 44,
   "id": "cfadd11b",
   "metadata": {},
   "outputs": [],
   "source": [
    "# Reordering the columns of given data to our desired manner\n",
    "ndata = new_data.reindex(columns=new_order)"
   ]
  },
  {
   "cell_type": "code",
   "execution_count": 45,
   "id": "0b639a6d",
   "metadata": {},
   "outputs": [
    {
     "data": {
      "text/html": [
       "<div>\n",
       "<style scoped>\n",
       "    .dataframe tbody tr th:only-of-type {\n",
       "        vertical-align: middle;\n",
       "    }\n",
       "\n",
       "    .dataframe tbody tr th {\n",
       "        vertical-align: top;\n",
       "    }\n",
       "\n",
       "    .dataframe thead th {\n",
       "        text-align: right;\n",
       "    }\n",
       "</style>\n",
       "<table border=\"1\" class=\"dataframe\">\n",
       "  <thead>\n",
       "    <tr style=\"text-align: right;\">\n",
       "      <th></th>\n",
       "      <th>Airline Name</th>\n",
       "      <th>Seat Type</th>\n",
       "      <th>Type Of Traveller</th>\n",
       "      <th>Origin</th>\n",
       "      <th>Destination</th>\n",
       "      <th>Month Flown</th>\n",
       "      <th>Year Flown</th>\n",
       "      <th>Verified</th>\n",
       "      <th>Seat Comfort</th>\n",
       "      <th>Food &amp; Beverages</th>\n",
       "      <th>Ground Service</th>\n",
       "      <th>Overall_Rating</th>\n",
       "      <th>Recommended</th>\n",
       "    </tr>\n",
       "  </thead>\n",
       "  <tbody>\n",
       "    <tr>\n",
       "      <th>0</th>\n",
       "      <td>AB Aviation</td>\n",
       "      <td>Economy Class</td>\n",
       "      <td>Solo Leisure</td>\n",
       "      <td>Moroni</td>\n",
       "      <td>Moheli</td>\n",
       "      <td>November</td>\n",
       "      <td>2019</td>\n",
       "      <td>True</td>\n",
       "      <td>4.0</td>\n",
       "      <td>4.0</td>\n",
       "      <td>4.0</td>\n",
       "      <td>9</td>\n",
       "      <td>yes</td>\n",
       "    </tr>\n",
       "    <tr>\n",
       "      <th>1</th>\n",
       "      <td>AB Aviation</td>\n",
       "      <td>Economy Class</td>\n",
       "      <td>Solo Leisure</td>\n",
       "      <td>Moroni</td>\n",
       "      <td>Anjouan</td>\n",
       "      <td>June</td>\n",
       "      <td>2019</td>\n",
       "      <td>True</td>\n",
       "      <td>2.0</td>\n",
       "      <td>1.0</td>\n",
       "      <td>1.0</td>\n",
       "      <td>1</td>\n",
       "      <td>no</td>\n",
       "    </tr>\n",
       "    <tr>\n",
       "      <th>2</th>\n",
       "      <td>AB Aviation</td>\n",
       "      <td>Economy Class</td>\n",
       "      <td>Solo Leisure</td>\n",
       "      <td>Anjouan</td>\n",
       "      <td>Dzaoudzi</td>\n",
       "      <td>June</td>\n",
       "      <td>2019</td>\n",
       "      <td>True</td>\n",
       "      <td>2.0</td>\n",
       "      <td>1.0</td>\n",
       "      <td>1.0</td>\n",
       "      <td>1</td>\n",
       "      <td>no</td>\n",
       "    </tr>\n",
       "    <tr>\n",
       "      <th>3</th>\n",
       "      <td>Adria Airways</td>\n",
       "      <td>Economy Class</td>\n",
       "      <td>Solo Leisure</td>\n",
       "      <td>Frankfurt</td>\n",
       "      <td>Pristina</td>\n",
       "      <td>September</td>\n",
       "      <td>2019</td>\n",
       "      <td>False</td>\n",
       "      <td>1.0</td>\n",
       "      <td>1.0</td>\n",
       "      <td>1.0</td>\n",
       "      <td>1</td>\n",
       "      <td>no</td>\n",
       "    </tr>\n",
       "    <tr>\n",
       "      <th>4</th>\n",
       "      <td>Adria Airways</td>\n",
       "      <td>Economy Class</td>\n",
       "      <td>Couple Leisure</td>\n",
       "      <td>Sofia</td>\n",
       "      <td>Amsterdam</td>\n",
       "      <td>September</td>\n",
       "      <td>2019</td>\n",
       "      <td>True</td>\n",
       "      <td>1.0</td>\n",
       "      <td>1.0</td>\n",
       "      <td>1.0</td>\n",
       "      <td>1</td>\n",
       "      <td>no</td>\n",
       "    </tr>\n",
       "  </tbody>\n",
       "</table>\n",
       "</div>"
      ],
      "text/plain": [
       "    Airline Name      Seat Type Type Of Traveller     Origin Destination  \\\n",
       "0    AB Aviation  Economy Class      Solo Leisure     Moroni      Moheli   \n",
       "1    AB Aviation  Economy Class      Solo Leisure     Moroni     Anjouan   \n",
       "2    AB Aviation  Economy Class      Solo Leisure    Anjouan    Dzaoudzi   \n",
       "3  Adria Airways  Economy Class      Solo Leisure  Frankfurt    Pristina   \n",
       "4  Adria Airways  Economy Class    Couple Leisure      Sofia   Amsterdam   \n",
       "\n",
       "  Month Flown Year Flown  Verified  Seat Comfort  Food & Beverages  \\\n",
       "0    November       2019      True           4.0               4.0   \n",
       "1        June       2019      True           2.0               1.0   \n",
       "2        June       2019      True           2.0               1.0   \n",
       "3   September       2019     False           1.0               1.0   \n",
       "4   September       2019      True           1.0               1.0   \n",
       "\n",
       "   Ground Service Overall_Rating Recommended  \n",
       "0             4.0              9         yes  \n",
       "1             1.0              1          no  \n",
       "2             1.0              1          no  \n",
       "3             1.0              1          no  \n",
       "4             1.0              1          no  "
      ]
     },
     "execution_count": 45,
     "metadata": {},
     "output_type": "execute_result"
    }
   ],
   "source": [
    "ndata.head()"
   ]
  },
  {
   "cell_type": "code",
   "execution_count": 46,
   "id": "051a040c",
   "metadata": {},
   "outputs": [
    {
     "data": {
      "text/plain": [
       "array(['Moroni', 'Anjouan', 'Frankfurt', ..., 'BWA', 'Seuol', 'Narita '],\n",
       "      dtype=object)"
      ]
     },
     "execution_count": 46,
     "metadata": {},
     "output_type": "execute_result"
    }
   ],
   "source": [
    "ndata['Origin'].unique()"
   ]
  },
  {
   "cell_type": "code",
   "execution_count": 47,
   "id": "8cb0ef8f",
   "metadata": {},
   "outputs": [
    {
     "data": {
      "text/plain": [
       "2171"
      ]
     },
     "execution_count": 47,
     "metadata": {},
     "output_type": "execute_result"
    }
   ],
   "source": [
    "ndata['Origin'].nunique()"
   ]
  },
  {
   "cell_type": "code",
   "execution_count": 48,
   "id": "1041db6c",
   "metadata": {},
   "outputs": [
    {
     "data": {
      "text/html": [
       "<div>\n",
       "<style scoped>\n",
       "    .dataframe tbody tr th:only-of-type {\n",
       "        vertical-align: middle;\n",
       "    }\n",
       "\n",
       "    .dataframe tbody tr th {\n",
       "        vertical-align: top;\n",
       "    }\n",
       "\n",
       "    .dataframe thead th {\n",
       "        text-align: right;\n",
       "    }\n",
       "</style>\n",
       "<table border=\"1\" class=\"dataframe\">\n",
       "  <thead>\n",
       "    <tr style=\"text-align: right;\">\n",
       "      <th></th>\n",
       "      <th>Airline Name</th>\n",
       "      <th>Seat Type</th>\n",
       "      <th>Type Of Traveller</th>\n",
       "      <th>Origin</th>\n",
       "      <th>Destination</th>\n",
       "      <th>Month Flown</th>\n",
       "      <th>Year Flown</th>\n",
       "      <th>Verified</th>\n",
       "      <th>Seat Comfort</th>\n",
       "      <th>Food &amp; Beverages</th>\n",
       "      <th>Ground Service</th>\n",
       "      <th>Overall_Rating</th>\n",
       "      <th>Recommended</th>\n",
       "    </tr>\n",
       "  </thead>\n",
       "  <tbody>\n",
       "    <tr>\n",
       "      <th>0</th>\n",
       "      <td>AB Aviation</td>\n",
       "      <td>Economy Class</td>\n",
       "      <td>Solo Leisure</td>\n",
       "      <td>Moroni</td>\n",
       "      <td>Moheli</td>\n",
       "      <td>November</td>\n",
       "      <td>2019</td>\n",
       "      <td>True</td>\n",
       "      <td>4.0</td>\n",
       "      <td>4.0</td>\n",
       "      <td>4.0</td>\n",
       "      <td>9</td>\n",
       "      <td>yes</td>\n",
       "    </tr>\n",
       "    <tr>\n",
       "      <th>1</th>\n",
       "      <td>AB Aviation</td>\n",
       "      <td>Economy Class</td>\n",
       "      <td>Solo Leisure</td>\n",
       "      <td>Moroni</td>\n",
       "      <td>Anjouan</td>\n",
       "      <td>June</td>\n",
       "      <td>2019</td>\n",
       "      <td>True</td>\n",
       "      <td>2.0</td>\n",
       "      <td>1.0</td>\n",
       "      <td>1.0</td>\n",
       "      <td>1</td>\n",
       "      <td>no</td>\n",
       "    </tr>\n",
       "    <tr>\n",
       "      <th>2</th>\n",
       "      <td>AB Aviation</td>\n",
       "      <td>Economy Class</td>\n",
       "      <td>Solo Leisure</td>\n",
       "      <td>Anjouan</td>\n",
       "      <td>Dzaoudzi</td>\n",
       "      <td>June</td>\n",
       "      <td>2019</td>\n",
       "      <td>True</td>\n",
       "      <td>2.0</td>\n",
       "      <td>1.0</td>\n",
       "      <td>1.0</td>\n",
       "      <td>1</td>\n",
       "      <td>no</td>\n",
       "    </tr>\n",
       "    <tr>\n",
       "      <th>3</th>\n",
       "      <td>Adria Airways</td>\n",
       "      <td>Economy Class</td>\n",
       "      <td>Solo Leisure</td>\n",
       "      <td>Frankfurt</td>\n",
       "      <td>Pristina</td>\n",
       "      <td>September</td>\n",
       "      <td>2019</td>\n",
       "      <td>False</td>\n",
       "      <td>1.0</td>\n",
       "      <td>1.0</td>\n",
       "      <td>1.0</td>\n",
       "      <td>1</td>\n",
       "      <td>no</td>\n",
       "    </tr>\n",
       "    <tr>\n",
       "      <th>4</th>\n",
       "      <td>Adria Airways</td>\n",
       "      <td>Economy Class</td>\n",
       "      <td>Couple Leisure</td>\n",
       "      <td>Sofia</td>\n",
       "      <td>Amsterdam</td>\n",
       "      <td>September</td>\n",
       "      <td>2019</td>\n",
       "      <td>True</td>\n",
       "      <td>1.0</td>\n",
       "      <td>1.0</td>\n",
       "      <td>1.0</td>\n",
       "      <td>1</td>\n",
       "      <td>no</td>\n",
       "    </tr>\n",
       "  </tbody>\n",
       "</table>\n",
       "</div>"
      ],
      "text/plain": [
       "    Airline Name      Seat Type Type Of Traveller     Origin Destination  \\\n",
       "0    AB Aviation  Economy Class      Solo Leisure     Moroni      Moheli   \n",
       "1    AB Aviation  Economy Class      Solo Leisure     Moroni     Anjouan   \n",
       "2    AB Aviation  Economy Class      Solo Leisure    Anjouan    Dzaoudzi   \n",
       "3  Adria Airways  Economy Class      Solo Leisure  Frankfurt    Pristina   \n",
       "4  Adria Airways  Economy Class    Couple Leisure      Sofia   Amsterdam   \n",
       "\n",
       "  Month Flown Year Flown  Verified  Seat Comfort  Food & Beverages  \\\n",
       "0    November       2019      True           4.0               4.0   \n",
       "1        June       2019      True           2.0               1.0   \n",
       "2        June       2019      True           2.0               1.0   \n",
       "3   September       2019     False           1.0               1.0   \n",
       "4   September       2019      True           1.0               1.0   \n",
       "\n",
       "   Ground Service Overall_Rating Recommended  \n",
       "0             4.0              9         yes  \n",
       "1             1.0              1          no  \n",
       "2             1.0              1          no  \n",
       "3             1.0              1          no  \n",
       "4             1.0              1          no  "
      ]
     },
     "execution_count": 48,
     "metadata": {},
     "output_type": "execute_result"
    }
   ],
   "source": [
    "ndata.head()"
   ]
  },
  {
   "cell_type": "code",
   "execution_count": 49,
   "id": "129dfb63",
   "metadata": {},
   "outputs": [
    {
     "data": {
      "text/plain": [
       "0        2019\n",
       "1        2019\n",
       "2        2019\n",
       "3        2019\n",
       "4        2019\n",
       "         ... \n",
       "23166    2022\n",
       "23167    2022\n",
       "23168    2022\n",
       "23169    2022\n",
       "23170    2022\n",
       "Name: Year Flown, Length: 23171, dtype: object"
      ]
     },
     "execution_count": 49,
     "metadata": {},
     "output_type": "execute_result"
    }
   ],
   "source": [
    "ndata['Year Flown']"
   ]
  },
  {
   "cell_type": "markdown",
   "id": "457f0efb",
   "metadata": {},
   "source": [
    "## 3. Exploratory Data Analysis"
   ]
  },
  {
   "cell_type": "markdown",
   "id": "d91ff8ef",
   "metadata": {},
   "source": [
    "Descriptive statistical"
   ]
  },
  {
   "cell_type": "markdown",
   "id": "6327bb42",
   "metadata": {},
   "source": [
    "Visual Analysis\n",
    "1) Univariate Analysis\n",
    "\n",
    "2) Bivariate Analysis\n",
    "\n",
    "3) Multivariate analysis"
   ]
  },
  {
   "cell_type": "code",
   "execution_count": 50,
   "id": "bc0bca16",
   "metadata": {},
   "outputs": [
    {
     "data": {
      "text/plain": [
       "[Text(0.5, 0, 'index')]"
      ]
     },
     "execution_count": 50,
     "metadata": {},
     "output_type": "execute_result"
    },
    {
     "data": {
      "image/png": "[encoded data removed]",
      "text/plain": [
       "<Figure size 700x700 with 1 Axes>"
      ]
     },
     "metadata": {},
     "output_type": "display_data"
    }
   ],
   "source": [
    "#Univariate analysis\n",
    "##lineplot in seaborn\n",
    "sns.set(rc={'figure.figsize':[7,7]})\n",
    "sns.set(font_scale=1)\n",
    "fig = sns.lineplot(x=ndata.index,y=ndata['Seat Type'],markevery=1,marker='d',\n",
    "                  hue=ndata['Seat Comfort'])\n",
    "fig.set(xlabel='index')"
   ]
  },
  {
   "cell_type": "code",
   "execution_count": 51,
   "id": "c9430137",
   "metadata": {},
   "outputs": [
    {
     "data": {
      "text/plain": [
       "Economy Class      20241\n",
       "Business Class      2098\n",
       "Premium Economy      646\n",
       "First Class          186\n",
       "Name: Seat Type, dtype: int64"
      ]
     },
     "execution_count": 51,
     "metadata": {},
     "output_type": "execute_result"
    }
   ],
   "source": [
    "ndata['Seat Type'].value_counts()"
   ]
  },
  {
   "cell_type": "code",
   "execution_count": 52,
   "id": "fa36c489",
   "metadata": {},
   "outputs": [
    {
     "data": {
      "text/plain": [
       "<AxesSubplot:>"
      ]
     },
     "execution_count": 52,
     "metadata": {},
     "output_type": "execute_result"
    },
    {
     "data": {
      "image/png": "[encoded data removed]",
      "text/plain": [
       "<Figure size 700x700 with 1 Axes>"
      ]
     },
     "metadata": {},
     "output_type": "display_data"
    }
   ],
   "source": [
    "ndata['Seat Type'].value_counts().plot.bar()"
   ]
  },
  {
   "cell_type": "code",
   "execution_count": 53,
   "id": "5848da4b",
   "metadata": {},
   "outputs": [
    {
     "data": {
      "image/png": "[encoded data removed]",
      "text/plain": [
       "<Figure size 1000x1000 with 1 Axes>"
      ]
     },
     "metadata": {},
     "output_type": "display_data"
    }
   ],
   "source": [
    "plt.figure(figsize=(10,10))\n",
    "labels = ['E_C','B_C',' P_C','F_C']\n",
    "plt.pie(ndata['Seat Type'].value_counts(),startangle=90,autopct='%.3f',\n",
    "       labels=labels,shadow=True)\n",
    "plt.legend(labels,loc='best')\n",
    "#plt.axis('equal')\n",
    "plt.show()"
   ]
  },
  {
   "cell_type": "code",
   "execution_count": 54,
   "id": "63818275",
   "metadata": {},
   "outputs": [],
   "source": [
    "from sklearn.preprocessing import LabelEncoder\n",
    "le = LabelEncoder()\n",
    "ndata['Overall_Rating'] = le.fit_transform(ndata['Overall_Rating'])"
   ]
  },
  {
   "cell_type": "code",
   "execution_count": 55,
   "id": "b2fdface",
   "metadata": {},
   "outputs": [
    {
     "data": {
      "text/plain": [
       "<AxesSubplot:xlabel='Type Of Traveller', ylabel='Overall_Rating'>"
      ]
     },
     "execution_count": 55,
     "metadata": {},
     "output_type": "execute_result"
    },
    {
     "data": {
      "image/png": "[encoded data removed]",
      "text/plain": [
       "<Figure size 700x700 with 1 Axes>"
      ]
     },
     "metadata": {},
     "output_type": "display_data"
    }
   ],
   "source": [
    "#Bivariate analysis\n",
    "sns.barplot(data=ndata,x='Type Of Traveller',y='Overall_Rating')"
   ]
  },
  {
   "cell_type": "code",
   "execution_count": 56,
   "id": "17fa38cc",
   "metadata": {},
   "outputs": [
    {
     "data": {
      "text/plain": [
       "<AxesSubplot:>"
      ]
     },
     "execution_count": 56,
     "metadata": {},
     "output_type": "execute_result"
    },
    {
     "data": {
      "image/png": "[encoded data removed]",
      "text/plain": [
       "<Figure size 700x700 with 2 Axes>"
      ]
     },
     "metadata": {},
     "output_type": "display_data"
    }
   ],
   "source": [
    "#multivariate analysis\n",
    "sns.heatmap(ndata.corr(),annot=True)"
   ]
  },
  {
   "cell_type": "markdown",
   "id": "d543c915",
   "metadata": {},
   "source": [
    "## 4. Handling Categorical Values"
   ]
  },
  {
   "cell_type": "code",
   "execution_count": 57,
   "id": "54a0ad33",
   "metadata": {},
   "outputs": [
    {
     "name": "stdout",
     "output_type": "stream",
     "text": [
      "<class 'pandas.core.frame.DataFrame'>\n",
      "RangeIndex: 23171 entries, 0 to 23170\n",
      "Data columns (total 13 columns):\n",
      " #   Column             Non-Null Count  Dtype  \n",
      "---  ------             --------------  -----  \n",
      " 0   Airline Name       23171 non-null  object \n",
      " 1   Seat Type          23171 non-null  object \n",
      " 2   Type Of Traveller  23171 non-null  object \n",
      " 3   Origin             23171 non-null  object \n",
      " 4   Destination        23171 non-null  object \n",
      " 5   Month Flown        23171 non-null  object \n",
      " 6   Year Flown         23171 non-null  object \n",
      " 7   Verified           23171 non-null  bool   \n",
      " 8   Seat Comfort       23171 non-null  float64\n",
      " 9   Food & Beverages   23171 non-null  float64\n",
      " 10  Ground Service     23171 non-null  float64\n",
      " 11  Overall_Rating     23171 non-null  int32  \n",
      " 12  Recommended        23171 non-null  object \n",
      "dtypes: bool(1), float64(3), int32(1), object(8)\n",
      "memory usage: 2.1+ MB\n"
     ]
    }
   ],
   "source": [
    "ndata.info()"
   ]
  },
  {
   "cell_type": "code",
   "execution_count": 58,
   "id": "9694f5aa",
   "metadata": {},
   "outputs": [
    {
     "data": {
      "text/html": [
       "<div>\n",
       "<style scoped>\n",
       "    .dataframe tbody tr th:only-of-type {\n",
       "        vertical-align: middle;\n",
       "    }\n",
       "\n",
       "    .dataframe tbody tr th {\n",
       "        vertical-align: top;\n",
       "    }\n",
       "\n",
       "    .dataframe thead th {\n",
       "        text-align: right;\n",
       "    }\n",
       "</style>\n",
       "<table border=\"1\" class=\"dataframe\">\n",
       "  <thead>\n",
       "    <tr style=\"text-align: right;\">\n",
       "      <th></th>\n",
       "      <th>Airline Name</th>\n",
       "      <th>Seat Type</th>\n",
       "      <th>Type Of Traveller</th>\n",
       "      <th>Origin</th>\n",
       "      <th>Destination</th>\n",
       "      <th>Month Flown</th>\n",
       "      <th>Year Flown</th>\n",
       "      <th>Verified</th>\n",
       "      <th>Seat Comfort</th>\n",
       "      <th>Food &amp; Beverages</th>\n",
       "      <th>Ground Service</th>\n",
       "      <th>Overall_Rating</th>\n",
       "      <th>Recommended</th>\n",
       "    </tr>\n",
       "  </thead>\n",
       "  <tbody>\n",
       "    <tr>\n",
       "      <th>0</th>\n",
       "      <td>AB Aviation</td>\n",
       "      <td>Economy Class</td>\n",
       "      <td>Solo Leisure</td>\n",
       "      <td>Moroni</td>\n",
       "      <td>Moheli</td>\n",
       "      <td>November</td>\n",
       "      <td>2019</td>\n",
       "      <td>True</td>\n",
       "      <td>4.0</td>\n",
       "      <td>4.0</td>\n",
       "      <td>4.0</td>\n",
       "      <td>9</td>\n",
       "      <td>yes</td>\n",
       "    </tr>\n",
       "    <tr>\n",
       "      <th>1</th>\n",
       "      <td>AB Aviation</td>\n",
       "      <td>Economy Class</td>\n",
       "      <td>Solo Leisure</td>\n",
       "      <td>Moroni</td>\n",
       "      <td>Anjouan</td>\n",
       "      <td>June</td>\n",
       "      <td>2019</td>\n",
       "      <td>True</td>\n",
       "      <td>2.0</td>\n",
       "      <td>1.0</td>\n",
       "      <td>1.0</td>\n",
       "      <td>0</td>\n",
       "      <td>no</td>\n",
       "    </tr>\n",
       "    <tr>\n",
       "      <th>2</th>\n",
       "      <td>AB Aviation</td>\n",
       "      <td>Economy Class</td>\n",
       "      <td>Solo Leisure</td>\n",
       "      <td>Anjouan</td>\n",
       "      <td>Dzaoudzi</td>\n",
       "      <td>June</td>\n",
       "      <td>2019</td>\n",
       "      <td>True</td>\n",
       "      <td>2.0</td>\n",
       "      <td>1.0</td>\n",
       "      <td>1.0</td>\n",
       "      <td>0</td>\n",
       "      <td>no</td>\n",
       "    </tr>\n",
       "    <tr>\n",
       "      <th>3</th>\n",
       "      <td>Adria Airways</td>\n",
       "      <td>Economy Class</td>\n",
       "      <td>Solo Leisure</td>\n",
       "      <td>Frankfurt</td>\n",
       "      <td>Pristina</td>\n",
       "      <td>September</td>\n",
       "      <td>2019</td>\n",
       "      <td>False</td>\n",
       "      <td>1.0</td>\n",
       "      <td>1.0</td>\n",
       "      <td>1.0</td>\n",
       "      <td>0</td>\n",
       "      <td>no</td>\n",
       "    </tr>\n",
       "    <tr>\n",
       "      <th>4</th>\n",
       "      <td>Adria Airways</td>\n",
       "      <td>Economy Class</td>\n",
       "      <td>Couple Leisure</td>\n",
       "      <td>Sofia</td>\n",
       "      <td>Amsterdam</td>\n",
       "      <td>September</td>\n",
       "      <td>2019</td>\n",
       "      <td>True</td>\n",
       "      <td>1.0</td>\n",
       "      <td>1.0</td>\n",
       "      <td>1.0</td>\n",
       "      <td>0</td>\n",
       "      <td>no</td>\n",
       "    </tr>\n",
       "  </tbody>\n",
       "</table>\n",
       "</div>"
      ],
      "text/plain": [
       "    Airline Name      Seat Type Type Of Traveller     Origin Destination  \\\n",
       "0    AB Aviation  Economy Class      Solo Leisure     Moroni      Moheli   \n",
       "1    AB Aviation  Economy Class      Solo Leisure     Moroni     Anjouan   \n",
       "2    AB Aviation  Economy Class      Solo Leisure    Anjouan    Dzaoudzi   \n",
       "3  Adria Airways  Economy Class      Solo Leisure  Frankfurt    Pristina   \n",
       "4  Adria Airways  Economy Class    Couple Leisure      Sofia   Amsterdam   \n",
       "\n",
       "  Month Flown Year Flown  Verified  Seat Comfort  Food & Beverages  \\\n",
       "0    November       2019      True           4.0               4.0   \n",
       "1        June       2019      True           2.0               1.0   \n",
       "2        June       2019      True           2.0               1.0   \n",
       "3   September       2019     False           1.0               1.0   \n",
       "4   September       2019      True           1.0               1.0   \n",
       "\n",
       "   Ground Service  Overall_Rating Recommended  \n",
       "0             4.0               9         yes  \n",
       "1             1.0               0          no  \n",
       "2             1.0               0          no  \n",
       "3             1.0               0          no  \n",
       "4             1.0               0          no  "
      ]
     },
     "execution_count": 58,
     "metadata": {},
     "output_type": "execute_result"
    }
   ],
   "source": [
    "ndata.head()"
   ]
  },
  {
   "cell_type": "code",
   "execution_count": 59,
   "id": "6e0ce849",
   "metadata": {},
   "outputs": [
    {
     "data": {
      "text/plain": [
       "0             Moheli\n",
       "1            Anjouan\n",
       "2           Dzaoudzi\n",
       "3           Pristina\n",
       "4          Amsterdam\n",
       "            ...     \n",
       "23166          Tokyo\n",
       "23167          Tokyo\n",
       "23168          Tokyo\n",
       "23169    Los Angeles\n",
       "23170          Tokyo\n",
       "Name: Destination, Length: 23171, dtype: object"
      ]
     },
     "execution_count": 59,
     "metadata": {},
     "output_type": "execute_result"
    }
   ],
   "source": [
    "ndata[\"Destination\"]"
   ]
  },
  {
   "cell_type": "markdown",
   "id": "78171fcf",
   "metadata": {},
   "source": [
    "As we can see our dataset has categorical data,we must convert the categorical data,we must convert the categorical data to integer encoding or binary encoding.\n",
    "To convert,we use encoding techniques."
   ]
  },
  {
   "cell_type": "markdown",
   "id": "c17f538a",
   "metadata": {},
   "source": [
    "In this dataset,categorical features are Airline Name, Seat Type, Type Of Traveller, Origin,Destination, Month Flown, Year Flown, Verified, Overall_Rating, Recommended."
   ]
  },
  {
   "cell_type": "code",
   "execution_count": 60,
   "id": "d70b8d81",
   "metadata": {},
   "outputs": [],
   "source": [
    "from sklearn.preprocessing import LabelEncoder\n",
    "le1 = LabelEncoder()\n",
    "le2 = LabelEncoder()\n",
    "le3 = LabelEncoder()\n",
    "le4 = LabelEncoder()\n",
    "le5 = LabelEncoder()\n",
    "le6 = LabelEncoder()\n",
    "le7 = LabelEncoder()\n",
    "le8 = LabelEncoder()\n",
    "le9 = LabelEncoder()\n",
    "le10 = LabelEncoder()"
   ]
  },
  {
   "cell_type": "code",
   "execution_count": 61,
   "id": "20edf668",
   "metadata": {},
   "outputs": [],
   "source": [
    "ndata['Airline Name'] = le1.fit_transform(ndata['Airline Name'])\n",
    "ndata['Seat Type'] = le2.fit_transform(ndata['Seat Type'])\n",
    "ndata['Type Of Traveller'] = le3.fit_transform(ndata['Type Of Traveller'])\n",
    "ndata['Origin'] = le4.fit_transform(ndata['Origin'])\n",
    "ndata['Destination'] = le5.fit_transform(ndata['Destination'])\n",
    "ndata['Month Flown'] = le6.fit_transform(ndata['Month Flown'])\n",
    "ndata['Year Flown'] = le7.fit_transform(ndata['Year Flown'])\n",
    "ndata['Verified'] = le8.fit_transform(ndata['Verified'])\n",
    "ndata['Overall_Rating'] = le9.fit_transform(ndata['Overall_Rating'])\n",
    "ndata['Recommended'] = le10.fit_transform(ndata['Recommended'])"
   ]
  },
  {
   "cell_type": "code",
   "execution_count": 62,
   "id": "27ccecff",
   "metadata": {},
   "outputs": [
    {
     "data": {
      "text/html": [
       "<div>\n",
       "<style scoped>\n",
       "    .dataframe tbody tr th:only-of-type {\n",
       "        vertical-align: middle;\n",
       "    }\n",
       "\n",
       "    .dataframe tbody tr th {\n",
       "        vertical-align: top;\n",
       "    }\n",
       "\n",
       "    .dataframe thead th {\n",
       "        text-align: right;\n",
       "    }\n",
       "</style>\n",
       "<table border=\"1\" class=\"dataframe\">\n",
       "  <thead>\n",
       "    <tr style=\"text-align: right;\">\n",
       "      <th></th>\n",
       "      <th>Airline Name</th>\n",
       "      <th>Seat Type</th>\n",
       "      <th>Type Of Traveller</th>\n",
       "      <th>Origin</th>\n",
       "      <th>Destination</th>\n",
       "      <th>Month Flown</th>\n",
       "      <th>Year Flown</th>\n",
       "      <th>Verified</th>\n",
       "      <th>Seat Comfort</th>\n",
       "      <th>Food &amp; Beverages</th>\n",
       "      <th>Ground Service</th>\n",
       "      <th>Overall_Rating</th>\n",
       "      <th>Recommended</th>\n",
       "    </tr>\n",
       "  </thead>\n",
       "  <tbody>\n",
       "    <tr>\n",
       "      <th>0</th>\n",
       "      <td>0</td>\n",
       "      <td>1</td>\n",
       "      <td>3</td>\n",
       "      <td>1274</td>\n",
       "      <td>1545</td>\n",
       "      <td>9</td>\n",
       "      <td>6</td>\n",
       "      <td>1</td>\n",
       "      <td>4.0</td>\n",
       "      <td>4.0</td>\n",
       "      <td>4.0</td>\n",
       "      <td>9</td>\n",
       "      <td>1</td>\n",
       "    </tr>\n",
       "    <tr>\n",
       "      <th>1</th>\n",
       "      <td>0</td>\n",
       "      <td>1</td>\n",
       "      <td>3</td>\n",
       "      <td>1274</td>\n",
       "      <td>107</td>\n",
       "      <td>6</td>\n",
       "      <td>6</td>\n",
       "      <td>1</td>\n",
       "      <td>2.0</td>\n",
       "      <td>1.0</td>\n",
       "      <td>1.0</td>\n",
       "      <td>0</td>\n",
       "      <td>0</td>\n",
       "    </tr>\n",
       "    <tr>\n",
       "      <th>2</th>\n",
       "      <td>0</td>\n",
       "      <td>1</td>\n",
       "      <td>3</td>\n",
       "      <td>79</td>\n",
       "      <td>672</td>\n",
       "      <td>6</td>\n",
       "      <td>6</td>\n",
       "      <td>1</td>\n",
       "      <td>2.0</td>\n",
       "      <td>1.0</td>\n",
       "      <td>1.0</td>\n",
       "      <td>0</td>\n",
       "      <td>0</td>\n",
       "    </tr>\n",
       "    <tr>\n",
       "      <th>3</th>\n",
       "      <td>4</td>\n",
       "      <td>1</td>\n",
       "      <td>3</td>\n",
       "      <td>629</td>\n",
       "      <td>1927</td>\n",
       "      <td>11</td>\n",
       "      <td>6</td>\n",
       "      <td>0</td>\n",
       "      <td>1.0</td>\n",
       "      <td>1.0</td>\n",
       "      <td>1.0</td>\n",
       "      <td>0</td>\n",
       "      <td>0</td>\n",
       "    </tr>\n",
       "    <tr>\n",
       "      <th>4</th>\n",
       "      <td>4</td>\n",
       "      <td>1</td>\n",
       "      <td>1</td>\n",
       "      <td>1830</td>\n",
       "      <td>99</td>\n",
       "      <td>11</td>\n",
       "      <td>6</td>\n",
       "      <td>1</td>\n",
       "      <td>1.0</td>\n",
       "      <td>1.0</td>\n",
       "      <td>1.0</td>\n",
       "      <td>0</td>\n",
       "      <td>0</td>\n",
       "    </tr>\n",
       "  </tbody>\n",
       "</table>\n",
       "</div>"
      ],
      "text/plain": [
       "   Airline Name  Seat Type  Type Of Traveller  Origin  Destination  \\\n",
       "0             0          1                  3    1274         1545   \n",
       "1             0          1                  3    1274          107   \n",
       "2             0          1                  3      79          672   \n",
       "3             4          1                  3     629         1927   \n",
       "4             4          1                  1    1830           99   \n",
       "\n",
       "   Month Flown  Year Flown  Verified  Seat Comfort  Food & Beverages  \\\n",
       "0            9           6         1           4.0               4.0   \n",
       "1            6           6         1           2.0               1.0   \n",
       "2            6           6         1           2.0               1.0   \n",
       "3           11           6         0           1.0               1.0   \n",
       "4           11           6         1           1.0               1.0   \n",
       "\n",
       "   Ground Service  Overall_Rating  Recommended  \n",
       "0             4.0               9            1  \n",
       "1             1.0               0            0  \n",
       "2             1.0               0            0  \n",
       "3             1.0               0            0  \n",
       "4             1.0               0            0  "
      ]
     },
     "execution_count": 62,
     "metadata": {},
     "output_type": "execute_result"
    }
   ],
   "source": [
    "ndata.head()"
   ]
  },
  {
   "cell_type": "code",
   "execution_count": 63,
   "id": "68bebf73",
   "metadata": {},
   "outputs": [
    {
     "data": {
      "text/html": [
       "<div>\n",
       "<style scoped>\n",
       "    .dataframe tbody tr th:only-of-type {\n",
       "        vertical-align: middle;\n",
       "    }\n",
       "\n",
       "    .dataframe tbody tr th {\n",
       "        vertical-align: top;\n",
       "    }\n",
       "\n",
       "    .dataframe thead th {\n",
       "        text-align: right;\n",
       "    }\n",
       "</style>\n",
       "<table border=\"1\" class=\"dataframe\">\n",
       "  <thead>\n",
       "    <tr style=\"text-align: right;\">\n",
       "      <th></th>\n",
       "      <th>Airline Name</th>\n",
       "      <th>Seat Type</th>\n",
       "      <th>Type Of Traveller</th>\n",
       "      <th>Origin</th>\n",
       "      <th>Destination</th>\n",
       "      <th>Month Flown</th>\n",
       "      <th>Year Flown</th>\n",
       "      <th>Verified</th>\n",
       "      <th>Seat Comfort</th>\n",
       "      <th>Food &amp; Beverages</th>\n",
       "      <th>Ground Service</th>\n",
       "      <th>Overall_Rating</th>\n",
       "      <th>Recommended</th>\n",
       "    </tr>\n",
       "  </thead>\n",
       "  <tbody>\n",
       "    <tr>\n",
       "      <th>count</th>\n",
       "      <td>23171.000000</td>\n",
       "      <td>23171.000000</td>\n",
       "      <td>23171.000000</td>\n",
       "      <td>23171.000000</td>\n",
       "      <td>23171.000000</td>\n",
       "      <td>23171.000000</td>\n",
       "      <td>23171.000000</td>\n",
       "      <td>23171.000000</td>\n",
       "      <td>23171.000000</td>\n",
       "      <td>23171.000000</td>\n",
       "      <td>23171.000000</td>\n",
       "      <td>23171.000000</td>\n",
       "      <td>23171.000000</td>\n",
       "    </tr>\n",
       "    <tr>\n",
       "      <th>mean</th>\n",
       "      <td>245.027880</td>\n",
       "      <td>0.973242</td>\n",
       "      <td>2.008675</td>\n",
       "      <td>1073.719089</td>\n",
       "      <td>1451.342066</td>\n",
       "      <td>5.495188</td>\n",
       "      <td>7.705321</td>\n",
       "      <td>0.531785</td>\n",
       "      <td>2.328126</td>\n",
       "      <td>1.972207</td>\n",
       "      <td>2.073713</td>\n",
       "      <td>2.565966</td>\n",
       "      <td>0.336930</td>\n",
       "    </tr>\n",
       "    <tr>\n",
       "      <th>std</th>\n",
       "      <td>144.313766</td>\n",
       "      <td>0.457584</td>\n",
       "      <td>1.077595</td>\n",
       "      <td>558.349459</td>\n",
       "      <td>800.585081</td>\n",
       "      <td>3.019861</td>\n",
       "      <td>2.512480</td>\n",
       "      <td>0.498999</td>\n",
       "      <td>1.465062</td>\n",
       "      <td>1.422340</td>\n",
       "      <td>1.523264</td>\n",
       "      <td>3.235551</td>\n",
       "      <td>0.472671</td>\n",
       "    </tr>\n",
       "    <tr>\n",
       "      <th>min</th>\n",
       "      <td>0.000000</td>\n",
       "      <td>0.000000</td>\n",
       "      <td>0.000000</td>\n",
       "      <td>0.000000</td>\n",
       "      <td>0.000000</td>\n",
       "      <td>0.000000</td>\n",
       "      <td>0.000000</td>\n",
       "      <td>0.000000</td>\n",
       "      <td>0.000000</td>\n",
       "      <td>0.000000</td>\n",
       "      <td>1.000000</td>\n",
       "      <td>0.000000</td>\n",
       "      <td>0.000000</td>\n",
       "    </tr>\n",
       "    <tr>\n",
       "      <th>25%</th>\n",
       "      <td>124.000000</td>\n",
       "      <td>1.000000</td>\n",
       "      <td>1.000000</td>\n",
       "      <td>616.000000</td>\n",
       "      <td>724.500000</td>\n",
       "      <td>3.000000</td>\n",
       "      <td>6.000000</td>\n",
       "      <td>0.000000</td>\n",
       "      <td>1.000000</td>\n",
       "      <td>1.000000</td>\n",
       "      <td>1.000000</td>\n",
       "      <td>0.000000</td>\n",
       "      <td>0.000000</td>\n",
       "    </tr>\n",
       "    <tr>\n",
       "      <th>50%</th>\n",
       "      <td>237.000000</td>\n",
       "      <td>1.000000</td>\n",
       "      <td>2.000000</td>\n",
       "      <td>1224.000000</td>\n",
       "      <td>1494.000000</td>\n",
       "      <td>6.000000</td>\n",
       "      <td>9.000000</td>\n",
       "      <td>1.000000</td>\n",
       "      <td>2.000000</td>\n",
       "      <td>1.000000</td>\n",
       "      <td>1.000000</td>\n",
       "      <td>0.000000</td>\n",
       "      <td>0.000000</td>\n",
       "    </tr>\n",
       "    <tr>\n",
       "      <th>75%</th>\n",
       "      <td>373.000000</td>\n",
       "      <td>1.000000</td>\n",
       "      <td>3.000000</td>\n",
       "      <td>1399.000000</td>\n",
       "      <td>2343.000000</td>\n",
       "      <td>7.000000</td>\n",
       "      <td>10.000000</td>\n",
       "      <td>1.000000</td>\n",
       "      <td>4.000000</td>\n",
       "      <td>3.000000</td>\n",
       "      <td>3.000000</td>\n",
       "      <td>5.000000</td>\n",
       "      <td>1.000000</td>\n",
       "    </tr>\n",
       "    <tr>\n",
       "      <th>max</th>\n",
       "      <td>496.000000</td>\n",
       "      <td>3.000000</td>\n",
       "      <td>3.000000</td>\n",
       "      <td>2170.000000</td>\n",
       "      <td>2691.000000</td>\n",
       "      <td>11.000000</td>\n",
       "      <td>10.000000</td>\n",
       "      <td>1.000000</td>\n",
       "      <td>5.000000</td>\n",
       "      <td>5.000000</td>\n",
       "      <td>5.000000</td>\n",
       "      <td>9.000000</td>\n",
       "      <td>1.000000</td>\n",
       "    </tr>\n",
       "  </tbody>\n",
       "</table>\n",
       "</div>"
      ],
      "text/plain": [
       "       Airline Name     Seat Type  Type Of Traveller        Origin  \\\n",
       "count  23171.000000  23171.000000       23171.000000  23171.000000   \n",
       "mean     245.027880      0.973242           2.008675   1073.719089   \n",
       "std      144.313766      0.457584           1.077595    558.349459   \n",
       "min        0.000000      0.000000           0.000000      0.000000   \n",
       "25%      124.000000      1.000000           1.000000    616.000000   \n",
       "50%      237.000000      1.000000           2.000000   1224.000000   \n",
       "75%      373.000000      1.000000           3.000000   1399.000000   \n",
       "max      496.000000      3.000000           3.000000   2170.000000   \n",
       "\n",
       "        Destination   Month Flown    Year Flown      Verified  Seat Comfort  \\\n",
       "count  23171.000000  23171.000000  23171.000000  23171.000000  23171.000000   \n",
       "mean    1451.342066      5.495188      7.705321      0.531785      2.328126   \n",
       "std      800.585081      3.019861      2.512480      0.498999      1.465062   \n",
       "min        0.000000      0.000000      0.000000      0.000000      0.000000   \n",
       "25%      724.500000      3.000000      6.000000      0.000000      1.000000   \n",
       "50%     1494.000000      6.000000      9.000000      1.000000      2.000000   \n",
       "75%     2343.000000      7.000000     10.000000      1.000000      4.000000   \n",
       "max     2691.000000     11.000000     10.000000      1.000000      5.000000   \n",
       "\n",
       "       Food & Beverages  Ground Service  Overall_Rating   Recommended  \n",
       "count      23171.000000    23171.000000    23171.000000  23171.000000  \n",
       "mean           1.972207        2.073713        2.565966      0.336930  \n",
       "std            1.422340        1.523264        3.235551      0.472671  \n",
       "min            0.000000        1.000000        0.000000      0.000000  \n",
       "25%            1.000000        1.000000        0.000000      0.000000  \n",
       "50%            1.000000        1.000000        0.000000      0.000000  \n",
       "75%            3.000000        3.000000        5.000000      1.000000  \n",
       "max            5.000000        5.000000        9.000000      1.000000  "
      ]
     },
     "execution_count": 63,
     "metadata": {},
     "output_type": "execute_result"
    }
   ],
   "source": [
    "ndata.describe()"
   ]
  },
  {
   "cell_type": "markdown",
   "id": "35f5f44a",
   "metadata": {},
   "source": [
    "## 5.Model Building\n",
    "1) Splitting dependent and independent variable\n",
    "\n",
    "2) Check if data is imbalanced\n",
    "\n",
    "3) Splitting data into training and testing\n",
    "\n",
    "4) Training the model in multiple algorithms\n",
    "\n",
    "5) Testing the model"
   ]
  },
  {
   "cell_type": "markdown",
   "id": "f288e87e",
   "metadata": {},
   "source": [
    "Splitting dependent and independent variable"
   ]
  },
  {
   "cell_type": "code",
   "execution_count": 64,
   "id": "41b68792",
   "metadata": {},
   "outputs": [
    {
     "data": {
      "text/plain": [
       "(23171, 13)"
      ]
     },
     "execution_count": 64,
     "metadata": {},
     "output_type": "execute_result"
    }
   ],
   "source": [
    "ndata.shape"
   ]
  },
  {
   "cell_type": "code",
   "execution_count": 65,
   "id": "a1ea6032",
   "metadata": {},
   "outputs": [],
   "source": [
    "x=ndata.iloc[:,0:12].values\n",
    "y=ndata.iloc[:,12:13].values"
   ]
  },
  {
   "cell_type": "code",
   "execution_count": 66,
   "id": "08e14ef6",
   "metadata": {},
   "outputs": [
    {
     "data": {
      "text/plain": [
       "array([[  0.,   1.,   3., ...,   4.,   4.,   9.],\n",
       "       [  0.,   1.,   3., ...,   1.,   1.,   0.],\n",
       "       [  0.,   1.,   3., ...,   1.,   1.,   0.],\n",
       "       ...,\n",
       "       [487.,   1.,   0., ...,   2.,   1.,   3.],\n",
       "       [487.,   0.,   0., ...,   3.,   1.,   6.],\n",
       "       [487.,   1.,   3., ...,   1.,   1.,   0.]])"
      ]
     },
     "execution_count": 66,
     "metadata": {},
     "output_type": "execute_result"
    }
   ],
   "source": [
    "x"
   ]
  },
  {
   "cell_type": "code",
   "execution_count": 67,
   "id": "5ff69ae8",
   "metadata": {},
   "outputs": [
    {
     "data": {
      "text/plain": [
       "array([[1],\n",
       "       [0],\n",
       "       [0],\n",
       "       ...,\n",
       "       [0],\n",
       "       [1],\n",
       "       [0]])"
      ]
     },
     "execution_count": 67,
     "metadata": {},
     "output_type": "execute_result"
    }
   ],
   "source": [
    "y"
   ]
  },
  {
   "cell_type": "markdown",
   "id": "6aa3a8ad",
   "metadata": {},
   "source": [
    "Basically, in target variable some values repeat more \n",
    "often than the other kind of values. To remove that \n",
    "imbalanced data, we will use SMOTE(Synthetic Minority \n",
    "Over Sampling Technique). "
   ]
  },
  {
   "cell_type": "code",
   "execution_count": 68,
   "id": "a3db46d2",
   "metadata": {},
   "outputs": [
    {
     "data": {
      "text/plain": [
       "0    15364\n",
       "1     7807\n",
       "Name: Recommended, dtype: int64"
      ]
     },
     "execution_count": 68,
     "metadata": {},
     "output_type": "execute_result"
    }
   ],
   "source": [
    "ndata.Recommended.value_counts()"
   ]
  },
  {
   "cell_type": "code",
   "execution_count": 69,
   "id": "a855f062",
   "metadata": {},
   "outputs": [
    {
     "data": {
      "text/plain": [
       "0        1274\n",
       "1        1274\n",
       "2          79\n",
       "3         629\n",
       "4        1830\n",
       "         ... \n",
       "23166     187\n",
       "23167    1819\n",
       "23168     187\n",
       "23169    1971\n",
       "23170    1819\n",
       "Name: Origin, Length: 23171, dtype: int32"
      ]
     },
     "execution_count": 69,
     "metadata": {},
     "output_type": "execute_result"
    }
   ],
   "source": [
    "ndata[\"Origin\"]"
   ]
  },
  {
   "cell_type": "code",
   "execution_count": 70,
   "id": "5febe12a",
   "metadata": {},
   "outputs": [],
   "source": [
    "#as the values are oversampling we need to use smote technique\n",
    "from imblearn.over_sampling import SMOTE\n",
    "smote=SMOTE(sampling_strategy='auto',random_state=1)"
   ]
  },
  {
   "cell_type": "code",
   "execution_count": 71,
   "id": "f28b51fa",
   "metadata": {},
   "outputs": [],
   "source": [
    "x,y=smote.fit_resample(x,y)"
   ]
  },
  {
   "cell_type": "code",
   "execution_count": 72,
   "id": "a81c41df",
   "metadata": {},
   "outputs": [
    {
     "data": {
      "text/plain": [
       "15364"
      ]
     },
     "execution_count": 72,
     "metadata": {},
     "output_type": "execute_result"
    }
   ],
   "source": [
    "np.count_nonzero(y==1)"
   ]
  },
  {
   "cell_type": "code",
   "execution_count": 73,
   "id": "2155ece1",
   "metadata": {},
   "outputs": [
    {
     "data": {
      "text/plain": [
       "15364"
      ]
     },
     "execution_count": 73,
     "metadata": {},
     "output_type": "execute_result"
    }
   ],
   "source": [
    "np.count_nonzero(y==0)"
   ]
  },
  {
   "cell_type": "code",
   "execution_count": 74,
   "id": "1e451126",
   "metadata": {},
   "outputs": [],
   "source": [
    "#splitting data into training and testing\n",
    "from sklearn.model_selection import train_test_split\n",
    "x_train,x_test,y_train,y_test = train_test_split(x,y,test_size=0.2,random_state=1)"
   ]
  },
  {
   "cell_type": "code",
   "execution_count": 130,
   "id": "c6eef820",
   "metadata": {},
   "outputs": [
    {
     "data": {
      "text/plain": [
       "array([[ 0.74796505,  0.08392531, -0.99411421, ...,  0.48408431,\n",
       "         0.95942464,  0.49680964],\n",
       "       [ 0.95757826,  1.93307645,  0.60257494, ...,  1.80798311,\n",
       "         0.95942464, -0.95362688],\n",
       "       [-0.60054658,  0.08392531,  0.92417925, ...,  1.14603371,\n",
       "        -0.87372769, -0.95362688],\n",
       "       ...,\n",
       "       [-0.03459092,  0.08392531, -0.99411421, ...,  1.14603371,\n",
       "         1.57047542, -0.95362688],\n",
       "       [-1.66957394,  0.08392531, -0.03496748, ..., -0.83981449,\n",
       "        -0.87372769, -0.37345227],\n",
       "       [ 1.41872732,  0.08392531,  0.92417925, ..., -0.83981449,\n",
       "        -0.87372769,  1.06338948]])"
      ]
     },
     "execution_count": 130,
     "metadata": {},
     "output_type": "execute_result"
    }
   ],
   "source": [
    "x_train"
   ]
  },
  {
   "cell_type": "code",
   "execution_count": 75,
   "id": "cb0543d3",
   "metadata": {},
   "outputs": [],
   "source": [
    "from sklearn.preprocessing import StandardScaler\n",
    "sc = StandardScaler()\n",
    "x_train=sc.fit_transform(x_train)\n",
    "x_test=sc.fit_transform(x_test)"
   ]
  },
  {
   "cell_type": "code",
   "execution_count": 76,
   "id": "f58f45db",
   "metadata": {},
   "outputs": [],
   "source": [
    "import pickle\n",
    "pickle.dump(sc,open('ar_ss.pkl','wb'))"
   ]
  },
  {
   "cell_type": "code",
   "execution_count": 77,
   "id": "9b181ad0",
   "metadata": {},
   "outputs": [],
   "source": [
    "import pickle\n",
    "pickle.dump(le1,open('le1.pkl','wb'))"
   ]
  },
  {
   "cell_type": "code",
   "execution_count": 78,
   "id": "120bdc6a",
   "metadata": {},
   "outputs": [],
   "source": [
    "import pickle\n",
    "pickle.dump(le2,open('le2.pkl','wb'))"
   ]
  },
  {
   "cell_type": "code",
   "execution_count": 79,
   "id": "a424cfa3",
   "metadata": {},
   "outputs": [],
   "source": [
    "import pickle\n",
    "pickle.dump(le3,open('le3.pkl','wb'))"
   ]
  },
  {
   "cell_type": "code",
   "execution_count": 80,
   "id": "5a627ee5",
   "metadata": {},
   "outputs": [],
   "source": [
    "import pickle\n",
    "pickle.dump(le4,open('le4.pkl','wb'))"
   ]
  },
  {
   "cell_type": "code",
   "execution_count": 81,
   "id": "816bc808",
   "metadata": {},
   "outputs": [],
   "source": [
    "import pickle\n",
    "pickle.dump(le5,open('le5.pkl','wb'))"
   ]
  },
  {
   "cell_type": "code",
   "execution_count": 82,
   "id": "b7b62596",
   "metadata": {},
   "outputs": [],
   "source": [
    "import pickle\n",
    "pickle.dump(le6,open('le6.pkl','wb'))"
   ]
  },
  {
   "cell_type": "code",
   "execution_count": 83,
   "id": "f205e577",
   "metadata": {},
   "outputs": [],
   "source": [
    "import pickle\n",
    "pickle.dump(le7,open('le7.pkl','wb'))"
   ]
  },
  {
   "cell_type": "code",
   "execution_count": 84,
   "id": "90cdee67",
   "metadata": {},
   "outputs": [],
   "source": [
    "import pickle\n",
    "pickle.dump(le8,open('le8.pkl','wb'))"
   ]
  },
  {
   "cell_type": "code",
   "execution_count": 85,
   "id": "76d142c2",
   "metadata": {},
   "outputs": [],
   "source": [
    "import pickle\n",
    "pickle.dump(le9,open('le9.pkl','wb'))"
   ]
  },
  {
   "cell_type": "code",
   "execution_count": 86,
   "id": "9b86dac2",
   "metadata": {},
   "outputs": [],
   "source": [
    "import pickle\n",
    "pickle.dump(le10,open('le10.pkl','wb'))"
   ]
  },
  {
   "cell_type": "code",
   "execution_count": 87,
   "id": "ff27ba05",
   "metadata": {},
   "outputs": [],
   "source": [
    "#training the model in multiple algorithms"
   ]
  },
  {
   "cell_type": "markdown",
   "id": "6611e21f",
   "metadata": {},
   "source": [
    "### 1.Decision tree"
   ]
  },
  {
   "cell_type": "code",
   "execution_count": 88,
   "id": "988ac5f4",
   "metadata": {},
   "outputs": [],
   "source": [
    "from sklearn.tree import DecisionTreeClassifier\n",
    "dtc = DecisionTreeClassifier(criterion='entropy',random_state=50)"
   ]
  },
  {
   "cell_type": "code",
   "execution_count": 89,
   "id": "a24f1d06",
   "metadata": {},
   "outputs": [
    {
     "data": {
      "text/html": [
       "<style>#sk-container-id-1 {color: black;}#sk-container-id-1 pre{padding: 0;}#sk-container-id-1 div.sk-toggleable {background-color: white;}#sk-container-id-1 label.sk-toggleable__label {cursor: pointer;display: block;width: 100%;margin-bottom: 0;padding: 0.3em;box-sizing: border-box;text-align: center;}#sk-container-id-1 label.sk-toggleable__label-arrow:before {content: \"▸\";float: left;margin-right: 0.25em;color: #696969;}#sk-container-id-1 label.sk-toggleable__label-arrow:hover:before {color: black;}#sk-container-id-1 div.sk-estimator:hover label.sk-toggleable__label-arrow:before {color: black;}#sk-container-id-1 div.sk-toggleable__content {max-height: 0;max-width: 0;overflow: hidden;text-align: left;background-color: #f0f8ff;}#sk-container-id-1 div.sk-toggleable__content pre {margin: 0.2em;color: black;border-radius: 0.25em;background-color: #f0f8ff;}#sk-container-id-1 input.sk-toggleable__control:checked~div.sk-toggleable__content {max-height: 200px;max-width: 100%;overflow: auto;}#sk-container-id-1 input.sk-toggleable__control:checked~label.sk-toggleable__label-arrow:before {content: \"▾\";}#sk-container-id-1 div.sk-estimator input.sk-toggleable__control:checked~label.sk-toggleable__label {background-color: #d4ebff;}#sk-container-id-1 div.sk-label input.sk-toggleable__control:checked~label.sk-toggleable__label {background-color: #d4ebff;}#sk-container-id-1 input.sk-hidden--visually {border: 0;clip: rect(1px 1px 1px 1px);clip: rect(1px, 1px, 1px, 1px);height: 1px;margin: -1px;overflow: hidden;padding: 0;position: absolute;width: 1px;}#sk-container-id-1 div.sk-estimator {font-family: monospace;background-color: #f0f8ff;border: 1px dotted black;border-radius: 0.25em;box-sizing: border-box;margin-bottom: 0.5em;}#sk-container-id-1 div.sk-estimator:hover {background-color: #d4ebff;}#sk-container-id-1 div.sk-parallel-item::after {content: \"\";width: 100%;border-bottom: 1px solid gray;flex-grow: 1;}#sk-container-id-1 div.sk-label:hover label.sk-toggleable__label {background-color: #d4ebff;}#sk-container-id-1 div.sk-serial::before {content: \"\";position: absolute;border-left: 1px solid gray;box-sizing: border-box;top: 0;bottom: 0;left: 50%;z-index: 0;}#sk-container-id-1 div.sk-serial {display: flex;flex-direction: column;align-items: center;background-color: white;padding-right: 0.2em;padding-left: 0.2em;position: relative;}#sk-container-id-1 div.sk-item {position: relative;z-index: 1;}#sk-container-id-1 div.sk-parallel {display: flex;align-items: stretch;justify-content: center;background-color: white;position: relative;}#sk-container-id-1 div.sk-item::before, #sk-container-id-1 div.sk-parallel-item::before {content: \"\";position: absolute;border-left: 1px solid gray;box-sizing: border-box;top: 0;bottom: 0;left: 50%;z-index: -1;}#sk-container-id-1 div.sk-parallel-item {display: flex;flex-direction: column;z-index: 1;position: relative;background-color: white;}#sk-container-id-1 div.sk-parallel-item:first-child::after {align-self: flex-end;width: 50%;}#sk-container-id-1 div.sk-parallel-item:last-child::after {align-self: flex-start;width: 50%;}#sk-container-id-1 div.sk-parallel-item:only-child::after {width: 0;}#sk-container-id-1 div.sk-dashed-wrapped {border: 1px dashed gray;margin: 0 0.4em 0.5em 0.4em;box-sizing: border-box;padding-bottom: 0.4em;background-color: white;}#sk-container-id-1 div.sk-label label {font-family: monospace;font-weight: bold;display: inline-block;line-height: 1.2em;}#sk-container-id-1 div.sk-label-container {text-align: center;}#sk-container-id-1 div.sk-container {/* jupyter's `normalize.less` sets `[hidden] { display: none; }` but bootstrap.min.css set `[hidden] { display: none !important; }` so we also need the `!important` here to be able to override the default hidden behavior on the sphinx rendered scikit-learn.org. See: https://github.com/scikit-learn/scikit-learn/issues/21755 */display: inline-block !important;position: relative;}#sk-container-id-1 div.sk-text-repr-fallback {display: none;}</style><div id=\"sk-container-id-1\" class=\"sk-top-container\"><div class=\"sk-text-repr-fallback\"><pre>DecisionTreeClassifier(criterion=&#x27;entropy&#x27;, random_state=50)</pre><b>In a Jupyter environment, please rerun this cell to show the HTML representation or trust the notebook. <br />On GitHub, the HTML representation is unable to render, please try loading this page with nbviewer.org.</b></div><div class=\"sk-container\" hidden><div class=\"sk-item\"><div class=\"sk-estimator sk-toggleable\"><input class=\"sk-toggleable__control sk-hidden--visually\" id=\"sk-estimator-id-1\" type=\"checkbox\" checked><label for=\"sk-estimator-id-1\" class=\"sk-toggleable__label sk-toggleable__label-arrow\">DecisionTreeClassifier</label><div class=\"sk-toggleable__content\"><pre>DecisionTreeClassifier(criterion=&#x27;entropy&#x27;, random_state=50)</pre></div></div></div></div></div>"
      ],
      "text/plain": [
       "DecisionTreeClassifier(criterion='entropy', random_state=50)"
      ]
     },
     "execution_count": 89,
     "metadata": {},
     "output_type": "execute_result"
    }
   ],
   "source": [
    "dtc.fit(x_train,y_train)"
   ]
  },
  {
   "cell_type": "code",
   "execution_count": 90,
   "id": "f877587a",
   "metadata": {},
   "outputs": [
    {
     "data": {
      "text/plain": [
       "array([0, 1, 1, ..., 1, 0, 1])"
      ]
     },
     "execution_count": 90,
     "metadata": {},
     "output_type": "execute_result"
    }
   ],
   "source": [
    "pred_dtc = dtc.predict(x_train)\n",
    "pred_dtc"
   ]
  },
  {
   "cell_type": "code",
   "execution_count": 92,
   "id": "520a201e",
   "metadata": {
    "scrolled": true
   },
   "outputs": [
    {
     "ename": "ValueError",
     "evalue": "Found input variables with inconsistent numbers of samples: [6146, 24582]",
     "output_type": "error",
     "traceback": [
      "\u001b[1;31m---------------------------------------------------------------------------\u001b[0m",
      "\u001b[1;31mValueError\u001b[0m                                Traceback (most recent call last)",
      "\u001b[1;32m~\\AppData\\Local\\Temp\\ipykernel_8740\\4242571298.py\u001b[0m in \u001b[0;36m<module>\u001b[1;34m\u001b[0m\n\u001b[0;32m      2\u001b[0m \u001b[1;32mfrom\u001b[0m \u001b[0msklearn\u001b[0m\u001b[1;33m.\u001b[0m\u001b[0mmetrics\u001b[0m \u001b[1;32mimport\u001b[0m \u001b[0mclassification_report\u001b[0m\u001b[1;33m,\u001b[0m\u001b[0mconfusion_matrix\u001b[0m\u001b[1;33m,\u001b[0m\u001b[0maccuracy_score\u001b[0m\u001b[1;33m,\u001b[0m\u001b[0mroc_curve\u001b[0m\u001b[1;33m,\u001b[0m\u001b[0mauc\u001b[0m\u001b[1;33m\u001b[0m\u001b[1;33m\u001b[0m\u001b[0m\n\u001b[0;32m      3\u001b[0m \u001b[1;33m\u001b[0m\u001b[0m\n\u001b[1;32m----> 4\u001b[1;33m \u001b[0mfpr_dt\u001b[0m\u001b[1;33m,\u001b[0m\u001b[0mtpr_dt\u001b[0m\u001b[1;33m,\u001b[0m\u001b[0mthreshold_dt\u001b[0m \u001b[1;33m=\u001b[0m \u001b[0mroc_curve\u001b[0m\u001b[1;33m(\u001b[0m\u001b[0my_test\u001b[0m\u001b[1;33m,\u001b[0m\u001b[0mpred_dtc\u001b[0m\u001b[1;33m)\u001b[0m\u001b[1;33m\u001b[0m\u001b[1;33m\u001b[0m\u001b[0m\n\u001b[0m\u001b[0;32m      5\u001b[0m \u001b[0mprint\u001b[0m\u001b[1;33m(\u001b[0m\u001b[0mclassification_report\u001b[0m\u001b[1;33m(\u001b[0m\u001b[0my_test\u001b[0m\u001b[1;33m,\u001b[0m\u001b[0mpred_dtc\u001b[0m\u001b[1;33m)\u001b[0m\u001b[1;33m)\u001b[0m\u001b[1;33m\u001b[0m\u001b[1;33m\u001b[0m\u001b[0m\n",
      "\u001b[1;32m~\\anaconda3\\lib\\site-packages\\sklearn\\utils\\_param_validation.py\u001b[0m in \u001b[0;36mwrapper\u001b[1;34m(*args, **kwargs)\u001b[0m\n\u001b[0;32m    209\u001b[0m                     )\n\u001b[0;32m    210\u001b[0m                 ):\n\u001b[1;32m--> 211\u001b[1;33m                     \u001b[1;32mreturn\u001b[0m \u001b[0mfunc\u001b[0m\u001b[1;33m(\u001b[0m\u001b[1;33m*\u001b[0m\u001b[0margs\u001b[0m\u001b[1;33m,\u001b[0m \u001b[1;33m**\u001b[0m\u001b[0mkwargs\u001b[0m\u001b[1;33m)\u001b[0m\u001b[1;33m\u001b[0m\u001b[1;33m\u001b[0m\u001b[0m\n\u001b[0m\u001b[0;32m    212\u001b[0m             \u001b[1;32mexcept\u001b[0m \u001b[0mInvalidParameterError\u001b[0m \u001b[1;32mas\u001b[0m \u001b[0me\u001b[0m\u001b[1;33m:\u001b[0m\u001b[1;33m\u001b[0m\u001b[1;33m\u001b[0m\u001b[0m\n\u001b[0;32m    213\u001b[0m                 \u001b[1;31m# When the function is just a wrapper around an estimator, we allow\u001b[0m\u001b[1;33m\u001b[0m\u001b[1;33m\u001b[0m\u001b[0m\n",
      "\u001b[1;32m~\\anaconda3\\lib\\site-packages\\sklearn\\metrics\\_ranking.py\u001b[0m in \u001b[0;36mroc_curve\u001b[1;34m(y_true, y_score, pos_label, sample_weight, drop_intermediate)\u001b[0m\n\u001b[0;32m   1093\u001b[0m     \u001b[0marray\u001b[0m\u001b[1;33m(\u001b[0m\u001b[1;33m[\u001b[0m \u001b[0minf\u001b[0m\u001b[1;33m,\u001b[0m \u001b[1;36m0.8\u001b[0m \u001b[1;33m,\u001b[0m \u001b[1;36m0.4\u001b[0m \u001b[1;33m,\u001b[0m \u001b[1;36m0.35\u001b[0m\u001b[1;33m,\u001b[0m \u001b[1;36m0.1\u001b[0m \u001b[1;33m]\u001b[0m\u001b[1;33m)\u001b[0m\u001b[1;33m\u001b[0m\u001b[1;33m\u001b[0m\u001b[0m\n\u001b[0;32m   1094\u001b[0m     \"\"\"\n\u001b[1;32m-> 1095\u001b[1;33m     fps, tps, thresholds = _binary_clf_curve(\n\u001b[0m\u001b[0;32m   1096\u001b[0m         \u001b[0my_true\u001b[0m\u001b[1;33m,\u001b[0m \u001b[0my_score\u001b[0m\u001b[1;33m,\u001b[0m \u001b[0mpos_label\u001b[0m\u001b[1;33m=\u001b[0m\u001b[0mpos_label\u001b[0m\u001b[1;33m,\u001b[0m \u001b[0msample_weight\u001b[0m\u001b[1;33m=\u001b[0m\u001b[0msample_weight\u001b[0m\u001b[1;33m\u001b[0m\u001b[1;33m\u001b[0m\u001b[0m\n\u001b[0;32m   1097\u001b[0m     )\n",
      "\u001b[1;32m~\\anaconda3\\lib\\site-packages\\sklearn\\metrics\\_ranking.py\u001b[0m in \u001b[0;36m_binary_clf_curve\u001b[1;34m(y_true, y_score, pos_label, sample_weight)\u001b[0m\n\u001b[0;32m    804\u001b[0m         \u001b[1;32mraise\u001b[0m \u001b[0mValueError\u001b[0m\u001b[1;33m(\u001b[0m\u001b[1;34m\"{0} format is not supported\"\u001b[0m\u001b[1;33m.\u001b[0m\u001b[0mformat\u001b[0m\u001b[1;33m(\u001b[0m\u001b[0my_type\u001b[0m\u001b[1;33m)\u001b[0m\u001b[1;33m)\u001b[0m\u001b[1;33m\u001b[0m\u001b[1;33m\u001b[0m\u001b[0m\n\u001b[0;32m    805\u001b[0m \u001b[1;33m\u001b[0m\u001b[0m\n\u001b[1;32m--> 806\u001b[1;33m     \u001b[0mcheck_consistent_length\u001b[0m\u001b[1;33m(\u001b[0m\u001b[0my_true\u001b[0m\u001b[1;33m,\u001b[0m \u001b[0my_score\u001b[0m\u001b[1;33m,\u001b[0m \u001b[0msample_weight\u001b[0m\u001b[1;33m)\u001b[0m\u001b[1;33m\u001b[0m\u001b[1;33m\u001b[0m\u001b[0m\n\u001b[0m\u001b[0;32m    807\u001b[0m     \u001b[0my_true\u001b[0m \u001b[1;33m=\u001b[0m \u001b[0mcolumn_or_1d\u001b[0m\u001b[1;33m(\u001b[0m\u001b[0my_true\u001b[0m\u001b[1;33m)\u001b[0m\u001b[1;33m\u001b[0m\u001b[1;33m\u001b[0m\u001b[0m\n\u001b[0;32m    808\u001b[0m     \u001b[0my_score\u001b[0m \u001b[1;33m=\u001b[0m \u001b[0mcolumn_or_1d\u001b[0m\u001b[1;33m(\u001b[0m\u001b[0my_score\u001b[0m\u001b[1;33m)\u001b[0m\u001b[1;33m\u001b[0m\u001b[1;33m\u001b[0m\u001b[0m\n",
      "\u001b[1;32m~\\anaconda3\\lib\\site-packages\\sklearn\\utils\\validation.py\u001b[0m in \u001b[0;36mcheck_consistent_length\u001b[1;34m(*arrays)\u001b[0m\n\u001b[0;32m    405\u001b[0m     \u001b[0muniques\u001b[0m \u001b[1;33m=\u001b[0m \u001b[0mnp\u001b[0m\u001b[1;33m.\u001b[0m\u001b[0munique\u001b[0m\u001b[1;33m(\u001b[0m\u001b[0mlengths\u001b[0m\u001b[1;33m)\u001b[0m\u001b[1;33m\u001b[0m\u001b[1;33m\u001b[0m\u001b[0m\n\u001b[0;32m    406\u001b[0m     \u001b[1;32mif\u001b[0m \u001b[0mlen\u001b[0m\u001b[1;33m(\u001b[0m\u001b[0muniques\u001b[0m\u001b[1;33m)\u001b[0m \u001b[1;33m>\u001b[0m \u001b[1;36m1\u001b[0m\u001b[1;33m:\u001b[0m\u001b[1;33m\u001b[0m\u001b[1;33m\u001b[0m\u001b[0m\n\u001b[1;32m--> 407\u001b[1;33m         raise ValueError(\n\u001b[0m\u001b[0;32m    408\u001b[0m             \u001b[1;34m\"Found input variables with inconsistent numbers of samples: %r\"\u001b[0m\u001b[1;33m\u001b[0m\u001b[1;33m\u001b[0m\u001b[0m\n\u001b[0;32m    409\u001b[0m             \u001b[1;33m%\u001b[0m \u001b[1;33m[\u001b[0m\u001b[0mint\u001b[0m\u001b[1;33m(\u001b[0m\u001b[0ml\u001b[0m\u001b[1;33m)\u001b[0m \u001b[1;32mfor\u001b[0m \u001b[0ml\u001b[0m \u001b[1;32min\u001b[0m \u001b[0mlengths\u001b[0m\u001b[1;33m]\u001b[0m\u001b[1;33m\u001b[0m\u001b[1;33m\u001b[0m\u001b[0m\n",
      "\u001b[1;31mValueError\u001b[0m: Found input variables with inconsistent numbers of samples: [6146, 24582]"
     ]
    }
   ],
   "source": [
    "## sklearn.metrics\n",
    "from sklearn.metrics import classification_report,confusion_matrix,accuracy_score,roc_curve,auc\n",
    "\n",
    "fpr_dt,tpr_dt,threshold_dt = roc_curve(y_test,pred_dtc)\n",
    "print(classification_report(y_test,pred_dtc))"
   ]
  },
  {
   "cell_type": "code",
   "execution_count": 93,
   "id": "fe1ad649",
   "metadata": {},
   "outputs": [],
   "source": [
    "roc_auc_dt = 0.952330\n",
    "as_dt = 0.960432"
   ]
  },
  {
   "cell_type": "code",
   "execution_count": null,
   "id": "caa655f5",
   "metadata": {},
   "outputs": [],
   "source": []
  },
  {
   "cell_type": "markdown",
   "id": "44086437",
   "metadata": {},
   "source": [
    "### 2. KNN"
   ]
  },
  {
   "cell_type": "code",
   "execution_count": 94,
   "id": "305c1191",
   "metadata": {},
   "outputs": [],
   "source": [
    "from sklearn.neighbors import KNeighborsClassifier\n",
    "knn = KNeighborsClassifier(n_neighbors=1)"
   ]
  },
  {
   "cell_type": "code",
   "execution_count": 95,
   "id": "32bbaf64",
   "metadata": {},
   "outputs": [
    {
     "data": {
      "text/html": [
       "<style>#sk-container-id-2 {color: black;}#sk-container-id-2 pre{padding: 0;}#sk-container-id-2 div.sk-toggleable {background-color: white;}#sk-container-id-2 label.sk-toggleable__label {cursor: pointer;display: block;width: 100%;margin-bottom: 0;padding: 0.3em;box-sizing: border-box;text-align: center;}#sk-container-id-2 label.sk-toggleable__label-arrow:before {content: \"▸\";float: left;margin-right: 0.25em;color: #696969;}#sk-container-id-2 label.sk-toggleable__label-arrow:hover:before {color: black;}#sk-container-id-2 div.sk-estimator:hover label.sk-toggleable__label-arrow:before {color: black;}#sk-container-id-2 div.sk-toggleable__content {max-height: 0;max-width: 0;overflow: hidden;text-align: left;background-color: #f0f8ff;}#sk-container-id-2 div.sk-toggleable__content pre {margin: 0.2em;color: black;border-radius: 0.25em;background-color: #f0f8ff;}#sk-container-id-2 input.sk-toggleable__control:checked~div.sk-toggleable__content {max-height: 200px;max-width: 100%;overflow: auto;}#sk-container-id-2 input.sk-toggleable__control:checked~label.sk-toggleable__label-arrow:before {content: \"▾\";}#sk-container-id-2 div.sk-estimator input.sk-toggleable__control:checked~label.sk-toggleable__label {background-color: #d4ebff;}#sk-container-id-2 div.sk-label input.sk-toggleable__control:checked~label.sk-toggleable__label {background-color: #d4ebff;}#sk-container-id-2 input.sk-hidden--visually {border: 0;clip: rect(1px 1px 1px 1px);clip: rect(1px, 1px, 1px, 1px);height: 1px;margin: -1px;overflow: hidden;padding: 0;position: absolute;width: 1px;}#sk-container-id-2 div.sk-estimator {font-family: monospace;background-color: #f0f8ff;border: 1px dotted black;border-radius: 0.25em;box-sizing: border-box;margin-bottom: 0.5em;}#sk-container-id-2 div.sk-estimator:hover {background-color: #d4ebff;}#sk-container-id-2 div.sk-parallel-item::after {content: \"\";width: 100%;border-bottom: 1px solid gray;flex-grow: 1;}#sk-container-id-2 div.sk-label:hover label.sk-toggleable__label {background-color: #d4ebff;}#sk-container-id-2 div.sk-serial::before {content: \"\";position: absolute;border-left: 1px solid gray;box-sizing: border-box;top: 0;bottom: 0;left: 50%;z-index: 0;}#sk-container-id-2 div.sk-serial {display: flex;flex-direction: column;align-items: center;background-color: white;padding-right: 0.2em;padding-left: 0.2em;position: relative;}#sk-container-id-2 div.sk-item {position: relative;z-index: 1;}#sk-container-id-2 div.sk-parallel {display: flex;align-items: stretch;justify-content: center;background-color: white;position: relative;}#sk-container-id-2 div.sk-item::before, #sk-container-id-2 div.sk-parallel-item::before {content: \"\";position: absolute;border-left: 1px solid gray;box-sizing: border-box;top: 0;bottom: 0;left: 50%;z-index: -1;}#sk-container-id-2 div.sk-parallel-item {display: flex;flex-direction: column;z-index: 1;position: relative;background-color: white;}#sk-container-id-2 div.sk-parallel-item:first-child::after {align-self: flex-end;width: 50%;}#sk-container-id-2 div.sk-parallel-item:last-child::after {align-self: flex-start;width: 50%;}#sk-container-id-2 div.sk-parallel-item:only-child::after {width: 0;}#sk-container-id-2 div.sk-dashed-wrapped {border: 1px dashed gray;margin: 0 0.4em 0.5em 0.4em;box-sizing: border-box;padding-bottom: 0.4em;background-color: white;}#sk-container-id-2 div.sk-label label {font-family: monospace;font-weight: bold;display: inline-block;line-height: 1.2em;}#sk-container-id-2 div.sk-label-container {text-align: center;}#sk-container-id-2 div.sk-container {/* jupyter's `normalize.less` sets `[hidden] { display: none; }` but bootstrap.min.css set `[hidden] { display: none !important; }` so we also need the `!important` here to be able to override the default hidden behavior on the sphinx rendered scikit-learn.org. See: https://github.com/scikit-learn/scikit-learn/issues/21755 */display: inline-block !important;position: relative;}#sk-container-id-2 div.sk-text-repr-fallback {display: none;}</style><div id=\"sk-container-id-2\" class=\"sk-top-container\"><div class=\"sk-text-repr-fallback\"><pre>KNeighborsClassifier(n_neighbors=1)</pre><b>In a Jupyter environment, please rerun this cell to show the HTML representation or trust the notebook. <br />On GitHub, the HTML representation is unable to render, please try loading this page with nbviewer.org.</b></div><div class=\"sk-container\" hidden><div class=\"sk-item\"><div class=\"sk-estimator sk-toggleable\"><input class=\"sk-toggleable__control sk-hidden--visually\" id=\"sk-estimator-id-2\" type=\"checkbox\" checked><label for=\"sk-estimator-id-2\" class=\"sk-toggleable__label sk-toggleable__label-arrow\">KNeighborsClassifier</label><div class=\"sk-toggleable__content\"><pre>KNeighborsClassifier(n_neighbors=1)</pre></div></div></div></div></div>"
      ],
      "text/plain": [
       "KNeighborsClassifier(n_neighbors=1)"
      ]
     },
     "execution_count": 95,
     "metadata": {},
     "output_type": "execute_result"
    }
   ],
   "source": [
    "knn.fit(x_train,y_train)"
   ]
  },
  {
   "cell_type": "code",
   "execution_count": 96,
   "id": "1571d8eb",
   "metadata": {},
   "outputs": [
    {
     "data": {
      "text/plain": [
       "array([1, 0, 0, ..., 1, 1, 0])"
      ]
     },
     "execution_count": 96,
     "metadata": {},
     "output_type": "execute_result"
    }
   ],
   "source": [
    "pred_knn=knn.predict(x_test)\n",
    "pred_knn"
   ]
  },
  {
   "cell_type": "code",
   "execution_count": 97,
   "id": "541e866b",
   "metadata": {},
   "outputs": [
    {
     "name": "stdout",
     "output_type": "stream",
     "text": [
      "              precision    recall  f1-score   support\n",
      "\n",
      "           0       0.94      0.93      0.94      3116\n",
      "           1       0.93      0.94      0.93      3030\n",
      "\n",
      "    accuracy                           0.94      6146\n",
      "   macro avg       0.94      0.94      0.94      6146\n",
      "weighted avg       0.94      0.94      0.94      6146\n",
      "\n"
     ]
    }
   ],
   "source": [
    "fpr_knn,tpr_knn,threshold_knn=roc_curve(y_test,pred_knn)\n",
    "print(classification_report(y_test,pred_knn))"
   ]
  },
  {
   "cell_type": "code",
   "execution_count": 98,
   "id": "4fe8de9b",
   "metadata": {},
   "outputs": [
    {
     "name": "stdout",
     "output_type": "stream",
     "text": [
      "roc_auc_knn : 0.9352104754763024\n",
      "confusion_matrix : [[2885  231]\n",
      " [ 168 2862]]\n",
      "Accuracy score : 0.9350797266514806\n"
     ]
    }
   ],
   "source": [
    "roc_auc_knn=auc(fpr_knn,tpr_knn)\n",
    "print(\"roc_auc_knn :\",roc_auc_knn)\n",
    "\n",
    "cm_knn = confusion_matrix(y_test,pred_knn)\n",
    "print(\"confusion_matrix :\",cm_knn)\n",
    "\n",
    "as_knn = accuracy_score(y_test,pred_knn)\n",
    "print(\"Accuracy score :\",as_knn)"
   ]
  },
  {
   "cell_type": "markdown",
   "id": "f17f5814",
   "metadata": {},
   "source": [
    "### 3. Logistic Regression"
   ]
  },
  {
   "cell_type": "code",
   "execution_count": 99,
   "id": "3c43d560",
   "metadata": {},
   "outputs": [],
   "source": [
    "from sklearn.linear_model import LogisticRegression\n",
    "lr = LogisticRegression()"
   ]
  },
  {
   "cell_type": "code",
   "execution_count": 100,
   "id": "16b87d7f",
   "metadata": {},
   "outputs": [
    {
     "data": {
      "text/html": [
       "<style>#sk-container-id-3 {color: black;}#sk-container-id-3 pre{padding: 0;}#sk-container-id-3 div.sk-toggleable {background-color: white;}#sk-container-id-3 label.sk-toggleable__label {cursor: pointer;display: block;width: 100%;margin-bottom: 0;padding: 0.3em;box-sizing: border-box;text-align: center;}#sk-container-id-3 label.sk-toggleable__label-arrow:before {content: \"▸\";float: left;margin-right: 0.25em;color: #696969;}#sk-container-id-3 label.sk-toggleable__label-arrow:hover:before {color: black;}#sk-container-id-3 div.sk-estimator:hover label.sk-toggleable__label-arrow:before {color: black;}#sk-container-id-3 div.sk-toggleable__content {max-height: 0;max-width: 0;overflow: hidden;text-align: left;background-color: #f0f8ff;}#sk-container-id-3 div.sk-toggleable__content pre {margin: 0.2em;color: black;border-radius: 0.25em;background-color: #f0f8ff;}#sk-container-id-3 input.sk-toggleable__control:checked~div.sk-toggleable__content {max-height: 200px;max-width: 100%;overflow: auto;}#sk-container-id-3 input.sk-toggleable__control:checked~label.sk-toggleable__label-arrow:before {content: \"▾\";}#sk-container-id-3 div.sk-estimator input.sk-toggleable__control:checked~label.sk-toggleable__label {background-color: #d4ebff;}#sk-container-id-3 div.sk-label input.sk-toggleable__control:checked~label.sk-toggleable__label {background-color: #d4ebff;}#sk-container-id-3 input.sk-hidden--visually {border: 0;clip: rect(1px 1px 1px 1px);clip: rect(1px, 1px, 1px, 1px);height: 1px;margin: -1px;overflow: hidden;padding: 0;position: absolute;width: 1px;}#sk-container-id-3 div.sk-estimator {font-family: monospace;background-color: #f0f8ff;border: 1px dotted black;border-radius: 0.25em;box-sizing: border-box;margin-bottom: 0.5em;}#sk-container-id-3 div.sk-estimator:hover {background-color: #d4ebff;}#sk-container-id-3 div.sk-parallel-item::after {content: \"\";width: 100%;border-bottom: 1px solid gray;flex-grow: 1;}#sk-container-id-3 div.sk-label:hover label.sk-toggleable__label {background-color: #d4ebff;}#sk-container-id-3 div.sk-serial::before {content: \"\";position: absolute;border-left: 1px solid gray;box-sizing: border-box;top: 0;bottom: 0;left: 50%;z-index: 0;}#sk-container-id-3 div.sk-serial {display: flex;flex-direction: column;align-items: center;background-color: white;padding-right: 0.2em;padding-left: 0.2em;position: relative;}#sk-container-id-3 div.sk-item {position: relative;z-index: 1;}#sk-container-id-3 div.sk-parallel {display: flex;align-items: stretch;justify-content: center;background-color: white;position: relative;}#sk-container-id-3 div.sk-item::before, #sk-container-id-3 div.sk-parallel-item::before {content: \"\";position: absolute;border-left: 1px solid gray;box-sizing: border-box;top: 0;bottom: 0;left: 50%;z-index: -1;}#sk-container-id-3 div.sk-parallel-item {display: flex;flex-direction: column;z-index: 1;position: relative;background-color: white;}#sk-container-id-3 div.sk-parallel-item:first-child::after {align-self: flex-end;width: 50%;}#sk-container-id-3 div.sk-parallel-item:last-child::after {align-self: flex-start;width: 50%;}#sk-container-id-3 div.sk-parallel-item:only-child::after {width: 0;}#sk-container-id-3 div.sk-dashed-wrapped {border: 1px dashed gray;margin: 0 0.4em 0.5em 0.4em;box-sizing: border-box;padding-bottom: 0.4em;background-color: white;}#sk-container-id-3 div.sk-label label {font-family: monospace;font-weight: bold;display: inline-block;line-height: 1.2em;}#sk-container-id-3 div.sk-label-container {text-align: center;}#sk-container-id-3 div.sk-container {/* jupyter's `normalize.less` sets `[hidden] { display: none; }` but bootstrap.min.css set `[hidden] { display: none !important; }` so we also need the `!important` here to be able to override the default hidden behavior on the sphinx rendered scikit-learn.org. See: https://github.com/scikit-learn/scikit-learn/issues/21755 */display: inline-block !important;position: relative;}#sk-container-id-3 div.sk-text-repr-fallback {display: none;}</style><div id=\"sk-container-id-3\" class=\"sk-top-container\"><div class=\"sk-text-repr-fallback\"><pre>LogisticRegression()</pre><b>In a Jupyter environment, please rerun this cell to show the HTML representation or trust the notebook. <br />On GitHub, the HTML representation is unable to render, please try loading this page with nbviewer.org.</b></div><div class=\"sk-container\" hidden><div class=\"sk-item\"><div class=\"sk-estimator sk-toggleable\"><input class=\"sk-toggleable__control sk-hidden--visually\" id=\"sk-estimator-id-3\" type=\"checkbox\" checked><label for=\"sk-estimator-id-3\" class=\"sk-toggleable__label sk-toggleable__label-arrow\">LogisticRegression</label><div class=\"sk-toggleable__content\"><pre>LogisticRegression()</pre></div></div></div></div></div>"
      ],
      "text/plain": [
       "LogisticRegression()"
      ]
     },
     "execution_count": 100,
     "metadata": {},
     "output_type": "execute_result"
    }
   ],
   "source": [
    "lr.fit(x_train,y_train)"
   ]
  },
  {
   "cell_type": "code",
   "execution_count": 101,
   "id": "89b04ac3",
   "metadata": {},
   "outputs": [
    {
     "data": {
      "text/plain": [
       "array([1, 0, 0, ..., 1, 1, 0])"
      ]
     },
     "execution_count": 101,
     "metadata": {},
     "output_type": "execute_result"
    }
   ],
   "source": [
    "pred_lr = lr.predict(x_test)\n",
    "pred_lr"
   ]
  },
  {
   "cell_type": "code",
   "execution_count": 102,
   "id": "e4991107",
   "metadata": {},
   "outputs": [
    {
     "name": "stdout",
     "output_type": "stream",
     "text": [
      "              precision    recall  f1-score   support\n",
      "\n",
      "           0       0.93      0.91      0.92      3116\n",
      "           1       0.91      0.93      0.92      3030\n",
      "\n",
      "    accuracy                           0.92      6146\n",
      "   macro avg       0.92      0.92      0.92      6146\n",
      "weighted avg       0.92      0.92      0.92      6146\n",
      "\n"
     ]
    }
   ],
   "source": [
    "## sklearn.metrics\n",
    "from sklearn.metrics import classification_report,confusion_matrix,roc_curve,auc\n",
    "fpr_lr,tpr_lr,threshold_lr = roc_curve(y_test,pred_lr)\n",
    "\n",
    "print(classification_report(y_test,pred_lr))"
   ]
  },
  {
   "cell_type": "code",
   "execution_count": 103,
   "id": "9dd8e348",
   "metadata": {},
   "outputs": [
    {
     "name": "stdout",
     "output_type": "stream",
     "text": [
      "roc_auc_lpr : 0.9196978651652071\n",
      "confusion_matrix : [[2849  267]\n",
      " [ 227 2803]]\n",
      "Accuracy score : 0.919622518711357\n"
     ]
    }
   ],
   "source": [
    "roc_auc_lr=auc(fpr_lr,tpr_lr)\n",
    "print(\"roc_auc_lpr :\",roc_auc_lr)\n",
    "\n",
    "cm_lr = confusion_matrix(y_test,pred_lr)\n",
    "print(\"confusion_matrix :\",cm_lr)\n",
    "\n",
    "as_lr = accuracy_score(y_test,pred_lr)\n",
    "print(\"Accuracy score :\",as_lr)"
   ]
  },
  {
   "cell_type": "markdown",
   "id": "b804b983",
   "metadata": {},
   "source": [
    "### 4.Naive Bayes Classification"
   ]
  },
  {
   "cell_type": "code",
   "execution_count": 104,
   "id": "ac9f8d8f",
   "metadata": {},
   "outputs": [],
   "source": [
    "from sklearn.naive_bayes import GaussianNB\n",
    "gnb = GaussianNB()"
   ]
  },
  {
   "cell_type": "code",
   "execution_count": 105,
   "id": "9d7710ed",
   "metadata": {},
   "outputs": [
    {
     "data": {
      "text/html": [
       "<style>#sk-container-id-4 {color: black;}#sk-container-id-4 pre{padding: 0;}#sk-container-id-4 div.sk-toggleable {background-color: white;}#sk-container-id-4 label.sk-toggleable__label {cursor: pointer;display: block;width: 100%;margin-bottom: 0;padding: 0.3em;box-sizing: border-box;text-align: center;}#sk-container-id-4 label.sk-toggleable__label-arrow:before {content: \"▸\";float: left;margin-right: 0.25em;color: #696969;}#sk-container-id-4 label.sk-toggleable__label-arrow:hover:before {color: black;}#sk-container-id-4 div.sk-estimator:hover label.sk-toggleable__label-arrow:before {color: black;}#sk-container-id-4 div.sk-toggleable__content {max-height: 0;max-width: 0;overflow: hidden;text-align: left;background-color: #f0f8ff;}#sk-container-id-4 div.sk-toggleable__content pre {margin: 0.2em;color: black;border-radius: 0.25em;background-color: #f0f8ff;}#sk-container-id-4 input.sk-toggleable__control:checked~div.sk-toggleable__content {max-height: 200px;max-width: 100%;overflow: auto;}#sk-container-id-4 input.sk-toggleable__control:checked~label.sk-toggleable__label-arrow:before {content: \"▾\";}#sk-container-id-4 div.sk-estimator input.sk-toggleable__control:checked~label.sk-toggleable__label {background-color: #d4ebff;}#sk-container-id-4 div.sk-label input.sk-toggleable__control:checked~label.sk-toggleable__label {background-color: #d4ebff;}#sk-container-id-4 input.sk-hidden--visually {border: 0;clip: rect(1px 1px 1px 1px);clip: rect(1px, 1px, 1px, 1px);height: 1px;margin: -1px;overflow: hidden;padding: 0;position: absolute;width: 1px;}#sk-container-id-4 div.sk-estimator {font-family: monospace;background-color: #f0f8ff;border: 1px dotted black;border-radius: 0.25em;box-sizing: border-box;margin-bottom: 0.5em;}#sk-container-id-4 div.sk-estimator:hover {background-color: #d4ebff;}#sk-container-id-4 div.sk-parallel-item::after {content: \"\";width: 100%;border-bottom: 1px solid gray;flex-grow: 1;}#sk-container-id-4 div.sk-label:hover label.sk-toggleable__label {background-color: #d4ebff;}#sk-container-id-4 div.sk-serial::before {content: \"\";position: absolute;border-left: 1px solid gray;box-sizing: border-box;top: 0;bottom: 0;left: 50%;z-index: 0;}#sk-container-id-4 div.sk-serial {display: flex;flex-direction: column;align-items: center;background-color: white;padding-right: 0.2em;padding-left: 0.2em;position: relative;}#sk-container-id-4 div.sk-item {position: relative;z-index: 1;}#sk-container-id-4 div.sk-parallel {display: flex;align-items: stretch;justify-content: center;background-color: white;position: relative;}#sk-container-id-4 div.sk-item::before, #sk-container-id-4 div.sk-parallel-item::before {content: \"\";position: absolute;border-left: 1px solid gray;box-sizing: border-box;top: 0;bottom: 0;left: 50%;z-index: -1;}#sk-container-id-4 div.sk-parallel-item {display: flex;flex-direction: column;z-index: 1;position: relative;background-color: white;}#sk-container-id-4 div.sk-parallel-item:first-child::after {align-self: flex-end;width: 50%;}#sk-container-id-4 div.sk-parallel-item:last-child::after {align-self: flex-start;width: 50%;}#sk-container-id-4 div.sk-parallel-item:only-child::after {width: 0;}#sk-container-id-4 div.sk-dashed-wrapped {border: 1px dashed gray;margin: 0 0.4em 0.5em 0.4em;box-sizing: border-box;padding-bottom: 0.4em;background-color: white;}#sk-container-id-4 div.sk-label label {font-family: monospace;font-weight: bold;display: inline-block;line-height: 1.2em;}#sk-container-id-4 div.sk-label-container {text-align: center;}#sk-container-id-4 div.sk-container {/* jupyter's `normalize.less` sets `[hidden] { display: none; }` but bootstrap.min.css set `[hidden] { display: none !important; }` so we also need the `!important` here to be able to override the default hidden behavior on the sphinx rendered scikit-learn.org. See: https://github.com/scikit-learn/scikit-learn/issues/21755 */display: inline-block !important;position: relative;}#sk-container-id-4 div.sk-text-repr-fallback {display: none;}</style><div id=\"sk-container-id-4\" class=\"sk-top-container\"><div class=\"sk-text-repr-fallback\"><pre>GaussianNB()</pre><b>In a Jupyter environment, please rerun this cell to show the HTML representation or trust the notebook. <br />On GitHub, the HTML representation is unable to render, please try loading this page with nbviewer.org.</b></div><div class=\"sk-container\" hidden><div class=\"sk-item\"><div class=\"sk-estimator sk-toggleable\"><input class=\"sk-toggleable__control sk-hidden--visually\" id=\"sk-estimator-id-4\" type=\"checkbox\" checked><label for=\"sk-estimator-id-4\" class=\"sk-toggleable__label sk-toggleable__label-arrow\">GaussianNB</label><div class=\"sk-toggleable__content\"><pre>GaussianNB()</pre></div></div></div></div></div>"
      ],
      "text/plain": [
       "GaussianNB()"
      ]
     },
     "execution_count": 105,
     "metadata": {},
     "output_type": "execute_result"
    }
   ],
   "source": [
    "gnb.fit(x_train,y_train)"
   ]
  },
  {
   "cell_type": "code",
   "execution_count": 106,
   "id": "7f35da95",
   "metadata": {},
   "outputs": [
    {
     "data": {
      "text/plain": [
       "array([1, 0, 0, ..., 1, 1, 0])"
      ]
     },
     "execution_count": 106,
     "metadata": {},
     "output_type": "execute_result"
    }
   ],
   "source": [
    "pred_gnb = gnb.predict(x_test)\n",
    "pred_gnb"
   ]
  },
  {
   "cell_type": "code",
   "execution_count": 107,
   "id": "2dc8e718",
   "metadata": {},
   "outputs": [
    {
     "name": "stdout",
     "output_type": "stream",
     "text": [
      "              precision    recall  f1-score   support\n",
      "\n",
      "           0       0.93      0.88      0.90      3116\n",
      "           1       0.88      0.93      0.90      3030\n",
      "\n",
      "    accuracy                           0.90      6146\n",
      "   macro avg       0.90      0.90      0.90      6146\n",
      "weighted avg       0.90      0.90      0.90      6146\n",
      "\n"
     ]
    }
   ],
   "source": [
    "## sklearn.metrics\n",
    "from sklearn.metrics import classification_report,confusion_matrix,roc_curve,auc\n",
    "fpr_gnb,tpr_gnb,threshold_gnb = roc_curve(y_test,pred_gnb)\n",
    "\n",
    "print(classification_report(y_test,pred_gnb))"
   ]
  },
  {
   "cell_type": "code",
   "execution_count": 108,
   "id": "6329a955",
   "metadata": {},
   "outputs": [
    {
     "name": "stdout",
     "output_type": "stream",
     "text": [
      "roc_auc_gnb : 0.9032067006443905\n",
      "confusion_matrix : [[2738  378]\n",
      " [ 219 2811]]\n",
      "Accuracy score : 0.9028636511552229\n"
     ]
    }
   ],
   "source": [
    "roc_auc_gnb=auc(fpr_gnb,tpr_gnb)\n",
    "print(\"roc_auc_gnb :\",roc_auc_gnb)\n",
    "\n",
    "cm_gnb = confusion_matrix(y_test,pred_gnb)\n",
    "print(\"confusion_matrix :\",cm_gnb)\n",
    "\n",
    "as_gnb = accuracy_score(y_test,pred_gnb)\n",
    "print(\"Accuracy score :\",as_gnb)"
   ]
  },
  {
   "cell_type": "markdown",
   "id": "c36dcb42",
   "metadata": {},
   "source": [
    "### 5.Random Forest Classification"
   ]
  },
  {
   "cell_type": "code",
   "execution_count": 109,
   "id": "e1cc0079",
   "metadata": {},
   "outputs": [],
   "source": [
    "from sklearn.ensemble import RandomForestClassifier\n",
    "rfc = RandomForestClassifier()"
   ]
  },
  {
   "cell_type": "code",
   "execution_count": 110,
   "id": "d3daf268",
   "metadata": {},
   "outputs": [
    {
     "data": {
      "text/html": [
       "<style>#sk-container-id-5 {color: black;}#sk-container-id-5 pre{padding: 0;}#sk-container-id-5 div.sk-toggleable {background-color: white;}#sk-container-id-5 label.sk-toggleable__label {cursor: pointer;display: block;width: 100%;margin-bottom: 0;padding: 0.3em;box-sizing: border-box;text-align: center;}#sk-container-id-5 label.sk-toggleable__label-arrow:before {content: \"▸\";float: left;margin-right: 0.25em;color: #696969;}#sk-container-id-5 label.sk-toggleable__label-arrow:hover:before {color: black;}#sk-container-id-5 div.sk-estimator:hover label.sk-toggleable__label-arrow:before {color: black;}#sk-container-id-5 div.sk-toggleable__content {max-height: 0;max-width: 0;overflow: hidden;text-align: left;background-color: #f0f8ff;}#sk-container-id-5 div.sk-toggleable__content pre {margin: 0.2em;color: black;border-radius: 0.25em;background-color: #f0f8ff;}#sk-container-id-5 input.sk-toggleable__control:checked~div.sk-toggleable__content {max-height: 200px;max-width: 100%;overflow: auto;}#sk-container-id-5 input.sk-toggleable__control:checked~label.sk-toggleable__label-arrow:before {content: \"▾\";}#sk-container-id-5 div.sk-estimator input.sk-toggleable__control:checked~label.sk-toggleable__label {background-color: #d4ebff;}#sk-container-id-5 div.sk-label input.sk-toggleable__control:checked~label.sk-toggleable__label {background-color: #d4ebff;}#sk-container-id-5 input.sk-hidden--visually {border: 0;clip: rect(1px 1px 1px 1px);clip: rect(1px, 1px, 1px, 1px);height: 1px;margin: -1px;overflow: hidden;padding: 0;position: absolute;width: 1px;}#sk-container-id-5 div.sk-estimator {font-family: monospace;background-color: #f0f8ff;border: 1px dotted black;border-radius: 0.25em;box-sizing: border-box;margin-bottom: 0.5em;}#sk-container-id-5 div.sk-estimator:hover {background-color: #d4ebff;}#sk-container-id-5 div.sk-parallel-item::after {content: \"\";width: 100%;border-bottom: 1px solid gray;flex-grow: 1;}#sk-container-id-5 div.sk-label:hover label.sk-toggleable__label {background-color: #d4ebff;}#sk-container-id-5 div.sk-serial::before {content: \"\";position: absolute;border-left: 1px solid gray;box-sizing: border-box;top: 0;bottom: 0;left: 50%;z-index: 0;}#sk-container-id-5 div.sk-serial {display: flex;flex-direction: column;align-items: center;background-color: white;padding-right: 0.2em;padding-left: 0.2em;position: relative;}#sk-container-id-5 div.sk-item {position: relative;z-index: 1;}#sk-container-id-5 div.sk-parallel {display: flex;align-items: stretch;justify-content: center;background-color: white;position: relative;}#sk-container-id-5 div.sk-item::before, #sk-container-id-5 div.sk-parallel-item::before {content: \"\";position: absolute;border-left: 1px solid gray;box-sizing: border-box;top: 0;bottom: 0;left: 50%;z-index: -1;}#sk-container-id-5 div.sk-parallel-item {display: flex;flex-direction: column;z-index: 1;position: relative;background-color: white;}#sk-container-id-5 div.sk-parallel-item:first-child::after {align-self: flex-end;width: 50%;}#sk-container-id-5 div.sk-parallel-item:last-child::after {align-self: flex-start;width: 50%;}#sk-container-id-5 div.sk-parallel-item:only-child::after {width: 0;}#sk-container-id-5 div.sk-dashed-wrapped {border: 1px dashed gray;margin: 0 0.4em 0.5em 0.4em;box-sizing: border-box;padding-bottom: 0.4em;background-color: white;}#sk-container-id-5 div.sk-label label {font-family: monospace;font-weight: bold;display: inline-block;line-height: 1.2em;}#sk-container-id-5 div.sk-label-container {text-align: center;}#sk-container-id-5 div.sk-container {/* jupyter's `normalize.less` sets `[hidden] { display: none; }` but bootstrap.min.css set `[hidden] { display: none !important; }` so we also need the `!important` here to be able to override the default hidden behavior on the sphinx rendered scikit-learn.org. See: https://github.com/scikit-learn/scikit-learn/issues/21755 */display: inline-block !important;position: relative;}#sk-container-id-5 div.sk-text-repr-fallback {display: none;}</style><div id=\"sk-container-id-5\" class=\"sk-top-container\"><div class=\"sk-text-repr-fallback\"><pre>RandomForestClassifier()</pre><b>In a Jupyter environment, please rerun this cell to show the HTML representation or trust the notebook. <br />On GitHub, the HTML representation is unable to render, please try loading this page with nbviewer.org.</b></div><div class=\"sk-container\" hidden><div class=\"sk-item\"><div class=\"sk-estimator sk-toggleable\"><input class=\"sk-toggleable__control sk-hidden--visually\" id=\"sk-estimator-id-5\" type=\"checkbox\" checked><label for=\"sk-estimator-id-5\" class=\"sk-toggleable__label sk-toggleable__label-arrow\">RandomForestClassifier</label><div class=\"sk-toggleable__content\"><pre>RandomForestClassifier()</pre></div></div></div></div></div>"
      ],
      "text/plain": [
       "RandomForestClassifier()"
      ]
     },
     "execution_count": 110,
     "metadata": {},
     "output_type": "execute_result"
    }
   ],
   "source": [
    "rfc.fit(x_train,y_train)"
   ]
  },
  {
   "cell_type": "code",
   "execution_count": 111,
   "id": "76e61f39",
   "metadata": {},
   "outputs": [],
   "source": [
    "pred_rfc = rfc.predict(x_test)"
   ]
  },
  {
   "cell_type": "code",
   "execution_count": 112,
   "id": "893fb07c",
   "metadata": {},
   "outputs": [
    {
     "name": "stdout",
     "output_type": "stream",
     "text": [
      "              precision    recall  f1-score   support\n",
      "\n",
      "           0       0.98      0.54      0.70      3116\n",
      "           1       0.68      0.99      0.81      3030\n",
      "\n",
      "    accuracy                           0.76      6146\n",
      "   macro avg       0.83      0.77      0.75      6146\n",
      "weighted avg       0.83      0.76      0.75      6146\n",
      "\n"
     ]
    }
   ],
   "source": [
    "## sklearn.metrics\n",
    "from sklearn.metrics import classification_report,confusion_matrix,roc_curve,auc\n",
    "fpr_rfc,tpr_rfc,threshold_rfc = roc_curve(y_test,pred_rfc)\n",
    "\n",
    "print(classification_report(y_test,pred_rfc))"
   ]
  },
  {
   "cell_type": "code",
   "execution_count": 113,
   "id": "43b1f7f8",
   "metadata": {},
   "outputs": [
    {
     "name": "stdout",
     "output_type": "stream",
     "text": [
      "roc_auc_rfc : 0.7675142032816888\n",
      "confusion_matrix : [[1698 1418]\n",
      " [  30 3000]]\n",
      "Accuracy score : 0.7643996095021152\n"
     ]
    }
   ],
   "source": [
    "roc_auc_rfc=auc(fpr_rfc,tpr_rfc)\n",
    "print(\"roc_auc_rfc :\",roc_auc_rfc)\n",
    "\n",
    "cm_rfc = confusion_matrix(y_test,pred_rfc)\n",
    "print(\"confusion_matrix :\",cm_rfc)\n",
    "\n",
    "as_rfc = accuracy_score(y_test,pred_rfc)\n",
    "print(\"Accuracy score :\",as_rfc)"
   ]
  },
  {
   "cell_type": "markdown",
   "id": "26808f75",
   "metadata": {},
   "source": [
    "### 6. Support Vector Machine"
   ]
  },
  {
   "cell_type": "code",
   "execution_count": 114,
   "id": "a884f116",
   "metadata": {},
   "outputs": [],
   "source": [
    "from sklearn.svm import SVC\n",
    "svc = SVC()"
   ]
  },
  {
   "cell_type": "code",
   "execution_count": 115,
   "id": "3b36db51",
   "metadata": {},
   "outputs": [
    {
     "data": {
      "text/html": [
       "<style>#sk-container-id-6 {color: black;}#sk-container-id-6 pre{padding: 0;}#sk-container-id-6 div.sk-toggleable {background-color: white;}#sk-container-id-6 label.sk-toggleable__label {cursor: pointer;display: block;width: 100%;margin-bottom: 0;padding: 0.3em;box-sizing: border-box;text-align: center;}#sk-container-id-6 label.sk-toggleable__label-arrow:before {content: \"▸\";float: left;margin-right: 0.25em;color: #696969;}#sk-container-id-6 label.sk-toggleable__label-arrow:hover:before {color: black;}#sk-container-id-6 div.sk-estimator:hover label.sk-toggleable__label-arrow:before {color: black;}#sk-container-id-6 div.sk-toggleable__content {max-height: 0;max-width: 0;overflow: hidden;text-align: left;background-color: #f0f8ff;}#sk-container-id-6 div.sk-toggleable__content pre {margin: 0.2em;color: black;border-radius: 0.25em;background-color: #f0f8ff;}#sk-container-id-6 input.sk-toggleable__control:checked~div.sk-toggleable__content {max-height: 200px;max-width: 100%;overflow: auto;}#sk-container-id-6 input.sk-toggleable__control:checked~label.sk-toggleable__label-arrow:before {content: \"▾\";}#sk-container-id-6 div.sk-estimator input.sk-toggleable__control:checked~label.sk-toggleable__label {background-color: #d4ebff;}#sk-container-id-6 div.sk-label input.sk-toggleable__control:checked~label.sk-toggleable__label {background-color: #d4ebff;}#sk-container-id-6 input.sk-hidden--visually {border: 0;clip: rect(1px 1px 1px 1px);clip: rect(1px, 1px, 1px, 1px);height: 1px;margin: -1px;overflow: hidden;padding: 0;position: absolute;width: 1px;}#sk-container-id-6 div.sk-estimator {font-family: monospace;background-color: #f0f8ff;border: 1px dotted black;border-radius: 0.25em;box-sizing: border-box;margin-bottom: 0.5em;}#sk-container-id-6 div.sk-estimator:hover {background-color: #d4ebff;}#sk-container-id-6 div.sk-parallel-item::after {content: \"\";width: 100%;border-bottom: 1px solid gray;flex-grow: 1;}#sk-container-id-6 div.sk-label:hover label.sk-toggleable__label {background-color: #d4ebff;}#sk-container-id-6 div.sk-serial::before {content: \"\";position: absolute;border-left: 1px solid gray;box-sizing: border-box;top: 0;bottom: 0;left: 50%;z-index: 0;}#sk-container-id-6 div.sk-serial {display: flex;flex-direction: column;align-items: center;background-color: white;padding-right: 0.2em;padding-left: 0.2em;position: relative;}#sk-container-id-6 div.sk-item {position: relative;z-index: 1;}#sk-container-id-6 div.sk-parallel {display: flex;align-items: stretch;justify-content: center;background-color: white;position: relative;}#sk-container-id-6 div.sk-item::before, #sk-container-id-6 div.sk-parallel-item::before {content: \"\";position: absolute;border-left: 1px solid gray;box-sizing: border-box;top: 0;bottom: 0;left: 50%;z-index: -1;}#sk-container-id-6 div.sk-parallel-item {display: flex;flex-direction: column;z-index: 1;position: relative;background-color: white;}#sk-container-id-6 div.sk-parallel-item:first-child::after {align-self: flex-end;width: 50%;}#sk-container-id-6 div.sk-parallel-item:last-child::after {align-self: flex-start;width: 50%;}#sk-container-id-6 div.sk-parallel-item:only-child::after {width: 0;}#sk-container-id-6 div.sk-dashed-wrapped {border: 1px dashed gray;margin: 0 0.4em 0.5em 0.4em;box-sizing: border-box;padding-bottom: 0.4em;background-color: white;}#sk-container-id-6 div.sk-label label {font-family: monospace;font-weight: bold;display: inline-block;line-height: 1.2em;}#sk-container-id-6 div.sk-label-container {text-align: center;}#sk-container-id-6 div.sk-container {/* jupyter's `normalize.less` sets `[hidden] { display: none; }` but bootstrap.min.css set `[hidden] { display: none !important; }` so we also need the `!important` here to be able to override the default hidden behavior on the sphinx rendered scikit-learn.org. See: https://github.com/scikit-learn/scikit-learn/issues/21755 */display: inline-block !important;position: relative;}#sk-container-id-6 div.sk-text-repr-fallback {display: none;}</style><div id=\"sk-container-id-6\" class=\"sk-top-container\"><div class=\"sk-text-repr-fallback\"><pre>SVC()</pre><b>In a Jupyter environment, please rerun this cell to show the HTML representation or trust the notebook. <br />On GitHub, the HTML representation is unable to render, please try loading this page with nbviewer.org.</b></div><div class=\"sk-container\" hidden><div class=\"sk-item\"><div class=\"sk-estimator sk-toggleable\"><input class=\"sk-toggleable__control sk-hidden--visually\" id=\"sk-estimator-id-6\" type=\"checkbox\" checked><label for=\"sk-estimator-id-6\" class=\"sk-toggleable__label sk-toggleable__label-arrow\">SVC</label><div class=\"sk-toggleable__content\"><pre>SVC()</pre></div></div></div></div></div>"
      ],
      "text/plain": [
       "SVC()"
      ]
     },
     "execution_count": 115,
     "metadata": {},
     "output_type": "execute_result"
    }
   ],
   "source": [
    "svc.fit(x_train,y_train)"
   ]
  },
  {
   "cell_type": "code",
   "execution_count": 116,
   "id": "2e053ddf",
   "metadata": {},
   "outputs": [],
   "source": [
    "pred_svc = svc.predict(x_test)"
   ]
  },
  {
   "cell_type": "code",
   "execution_count": 117,
   "id": "b8b84d22",
   "metadata": {},
   "outputs": [
    {
     "name": "stdout",
     "output_type": "stream",
     "text": [
      "              precision    recall  f1-score   support\n",
      "\n",
      "           0       0.92      0.95      0.94      3116\n",
      "           1       0.95      0.92      0.93      3030\n",
      "\n",
      "    accuracy                           0.94      6146\n",
      "   macro avg       0.94      0.94      0.94      6146\n",
      "weighted avg       0.94      0.94      0.94      6146\n",
      "\n"
     ]
    }
   ],
   "source": [
    "## sklearn.metrics\n",
    "from sklearn.metrics import classification_report,confusion_matrix,roc_curve,auc\n",
    "fpr_svc,tpr_svc,threshold_svc = roc_curve(y_test,pred_svc)\n",
    "\n",
    "print(classification_report(y_test,pred_svc))"
   ]
  },
  {
   "cell_type": "code",
   "execution_count": 118,
   "id": "4268040d",
   "metadata": {},
   "outputs": [
    {
     "name": "stdout",
     "output_type": "stream",
     "text": [
      "roc_auc_svc : 0.9364689646114804\n",
      "confusion_matrix : [[2971  145]\n",
      " [ 244 2786]]\n",
      "Accuracy score : 0.9367068011714936\n"
     ]
    }
   ],
   "source": [
    "roc_auc_svc=auc(fpr_svc,tpr_svc)\n",
    "print(\"roc_auc_svc :\",roc_auc_svc)\n",
    "\n",
    "cm_svc = confusion_matrix(y_test,pred_svc)\n",
    "print(\"confusion_matrix :\",cm_svc)\n",
    "\n",
    "as_svc = accuracy_score(y_test,pred_svc)\n",
    "print(\"Accuracy score :\",as_svc)"
   ]
  },
  {
   "cell_type": "markdown",
   "id": "641a1c09",
   "metadata": {},
   "source": [
    "### 7. XGBoost Classifier"
   ]
  },
  {
   "cell_type": "code",
   "execution_count": 119,
   "id": "40e6312e",
   "metadata": {},
   "outputs": [],
   "source": [
    "from xgboost import XGBClassifier\n",
    "xgb = XGBClassifier()"
   ]
  },
  {
   "cell_type": "code",
   "execution_count": 120,
   "id": "2b8db5ff",
   "metadata": {},
   "outputs": [
    {
     "data": {
      "text/html": [
       "<style>#sk-container-id-7 {color: black;}#sk-container-id-7 pre{padding: 0;}#sk-container-id-7 div.sk-toggleable {background-color: white;}#sk-container-id-7 label.sk-toggleable__label {cursor: pointer;display: block;width: 100%;margin-bottom: 0;padding: 0.3em;box-sizing: border-box;text-align: center;}#sk-container-id-7 label.sk-toggleable__label-arrow:before {content: \"▸\";float: left;margin-right: 0.25em;color: #696969;}#sk-container-id-7 label.sk-toggleable__label-arrow:hover:before {color: black;}#sk-container-id-7 div.sk-estimator:hover label.sk-toggleable__label-arrow:before {color: black;}#sk-container-id-7 div.sk-toggleable__content {max-height: 0;max-width: 0;overflow: hidden;text-align: left;background-color: #f0f8ff;}#sk-container-id-7 div.sk-toggleable__content pre {margin: 0.2em;color: black;border-radius: 0.25em;background-color: #f0f8ff;}#sk-container-id-7 input.sk-toggleable__control:checked~div.sk-toggleable__content {max-height: 200px;max-width: 100%;overflow: auto;}#sk-container-id-7 input.sk-toggleable__control:checked~label.sk-toggleable__label-arrow:before {content: \"▾\";}#sk-container-id-7 div.sk-estimator input.sk-toggleable__control:checked~label.sk-toggleable__label {background-color: #d4ebff;}#sk-container-id-7 div.sk-label input.sk-toggleable__control:checked~label.sk-toggleable__label {background-color: #d4ebff;}#sk-container-id-7 input.sk-hidden--visually {border: 0;clip: rect(1px 1px 1px 1px);clip: rect(1px, 1px, 1px, 1px);height: 1px;margin: -1px;overflow: hidden;padding: 0;position: absolute;width: 1px;}#sk-container-id-7 div.sk-estimator {font-family: monospace;background-color: #f0f8ff;border: 1px dotted black;border-radius: 0.25em;box-sizing: border-box;margin-bottom: 0.5em;}#sk-container-id-7 div.sk-estimator:hover {background-color: #d4ebff;}#sk-container-id-7 div.sk-parallel-item::after {content: \"\";width: 100%;border-bottom: 1px solid gray;flex-grow: 1;}#sk-container-id-7 div.sk-label:hover label.sk-toggleable__label {background-color: #d4ebff;}#sk-container-id-7 div.sk-serial::before {content: \"\";position: absolute;border-left: 1px solid gray;box-sizing: border-box;top: 0;bottom: 0;left: 50%;z-index: 0;}#sk-container-id-7 div.sk-serial {display: flex;flex-direction: column;align-items: center;background-color: white;padding-right: 0.2em;padding-left: 0.2em;position: relative;}#sk-container-id-7 div.sk-item {position: relative;z-index: 1;}#sk-container-id-7 div.sk-parallel {display: flex;align-items: stretch;justify-content: center;background-color: white;position: relative;}#sk-container-id-7 div.sk-item::before, #sk-container-id-7 div.sk-parallel-item::before {content: \"\";position: absolute;border-left: 1px solid gray;box-sizing: border-box;top: 0;bottom: 0;left: 50%;z-index: -1;}#sk-container-id-7 div.sk-parallel-item {display: flex;flex-direction: column;z-index: 1;position: relative;background-color: white;}#sk-container-id-7 div.sk-parallel-item:first-child::after {align-self: flex-end;width: 50%;}#sk-container-id-7 div.sk-parallel-item:last-child::after {align-self: flex-start;width: 50%;}#sk-container-id-7 div.sk-parallel-item:only-child::after {width: 0;}#sk-container-id-7 div.sk-dashed-wrapped {border: 1px dashed gray;margin: 0 0.4em 0.5em 0.4em;box-sizing: border-box;padding-bottom: 0.4em;background-color: white;}#sk-container-id-7 div.sk-label label {font-family: monospace;font-weight: bold;display: inline-block;line-height: 1.2em;}#sk-container-id-7 div.sk-label-container {text-align: center;}#sk-container-id-7 div.sk-container {/* jupyter's `normalize.less` sets `[hidden] { display: none; }` but bootstrap.min.css set `[hidden] { display: none !important; }` so we also need the `!important` here to be able to override the default hidden behavior on the sphinx rendered scikit-learn.org. See: https://github.com/scikit-learn/scikit-learn/issues/21755 */display: inline-block !important;position: relative;}#sk-container-id-7 div.sk-text-repr-fallback {display: none;}</style><div id=\"sk-container-id-7\" class=\"sk-top-container\"><div class=\"sk-text-repr-fallback\"><pre>XGBClassifier(base_score=None, booster=None, callbacks=None,\n",
       "              colsample_bylevel=None, colsample_bynode=None,\n",
       "              colsample_bytree=None, device=None, early_stopping_rounds=None,\n",
       "              enable_categorical=False, eval_metric=None, feature_types=None,\n",
       "              gamma=None, grow_policy=None, importance_type=None,\n",
       "              interaction_constraints=None, learning_rate=None, max_bin=None,\n",
       "              max_cat_threshold=None, max_cat_to_onehot=None,\n",
       "              max_delta_step=None, max_depth=None, max_leaves=None,\n",
       "              min_child_weight=None, missing=nan, monotone_constraints=None,\n",
       "              multi_strategy=None, n_estimators=None, n_jobs=None,\n",
       "              num_parallel_tree=None, random_state=None, ...)</pre><b>In a Jupyter environment, please rerun this cell to show the HTML representation or trust the notebook. <br />On GitHub, the HTML representation is unable to render, please try loading this page with nbviewer.org.</b></div><div class=\"sk-container\" hidden><div class=\"sk-item\"><div class=\"sk-estimator sk-toggleable\"><input class=\"sk-toggleable__control sk-hidden--visually\" id=\"sk-estimator-id-7\" type=\"checkbox\" checked><label for=\"sk-estimator-id-7\" class=\"sk-toggleable__label sk-toggleable__label-arrow\">XGBClassifier</label><div class=\"sk-toggleable__content\"><pre>XGBClassifier(base_score=None, booster=None, callbacks=None,\n",
       "              colsample_bylevel=None, colsample_bynode=None,\n",
       "              colsample_bytree=None, device=None, early_stopping_rounds=None,\n",
       "              enable_categorical=False, eval_metric=None, feature_types=None,\n",
       "              gamma=None, grow_policy=None, importance_type=None,\n",
       "              interaction_constraints=None, learning_rate=None, max_bin=None,\n",
       "              max_cat_threshold=None, max_cat_to_onehot=None,\n",
       "              max_delta_step=None, max_depth=None, max_leaves=None,\n",
       "              min_child_weight=None, missing=nan, monotone_constraints=None,\n",
       "              multi_strategy=None, n_estimators=None, n_jobs=None,\n",
       "              num_parallel_tree=None, random_state=None, ...)</pre></div></div></div></div></div>"
      ],
      "text/plain": [
       "XGBClassifier(base_score=None, booster=None, callbacks=None,\n",
       "              colsample_bylevel=None, colsample_bynode=None,\n",
       "              colsample_bytree=None, device=None, early_stopping_rounds=None,\n",
       "              enable_categorical=False, eval_metric=None, feature_types=None,\n",
       "              gamma=None, grow_policy=None, importance_type=None,\n",
       "              interaction_constraints=None, learning_rate=None, max_bin=None,\n",
       "              max_cat_threshold=None, max_cat_to_onehot=None,\n",
       "              max_delta_step=None, max_depth=None, max_leaves=None,\n",
       "              min_child_weight=None, missing=nan, monotone_constraints=None,\n",
       "              multi_strategy=None, n_estimators=None, n_jobs=None,\n",
       "              num_parallel_tree=None, random_state=None, ...)"
      ]
     },
     "execution_count": 120,
     "metadata": {},
     "output_type": "execute_result"
    }
   ],
   "source": [
    "xgb.fit(x_train,y_train)"
   ]
  },
  {
   "cell_type": "code",
   "execution_count": 121,
   "id": "58c4b79b",
   "metadata": {},
   "outputs": [],
   "source": [
    "pred_xgb = xgb.predict(x_test)"
   ]
  },
  {
   "cell_type": "code",
   "execution_count": 122,
   "id": "d39b2798",
   "metadata": {},
   "outputs": [
    {
     "name": "stdout",
     "output_type": "stream",
     "text": [
      "              precision    recall  f1-score   support\n",
      "\n",
      "           0       0.99      0.73      0.84      3116\n",
      "           1       0.78      0.99      0.87      3030\n",
      "\n",
      "    accuracy                           0.86      6146\n",
      "   macro avg       0.89      0.86      0.86      6146\n",
      "weighted avg       0.89      0.86      0.86      6146\n",
      "\n"
     ]
    }
   ],
   "source": [
    "## sklearn.metrics\n",
    "from sklearn.metrics import classification_report,confusion_matrix,roc_curve,auc\n",
    "fpr_xgb,tpr_xgb,threshold_xgb = roc_curve(y_test,pred_xgb)\n",
    "\n",
    "print(classification_report(y_test,pred_xgb))"
   ]
  },
  {
   "cell_type": "code",
   "execution_count": 123,
   "id": "2b74d507",
   "metadata": {},
   "outputs": [
    {
     "name": "stdout",
     "output_type": "stream",
     "text": [
      "roc_auc_xgb : 0.9584778022089757\n",
      "confusion_matrix : [[2281  835]\n",
      " [  27 3003]]\n",
      "Accuracy score : 0.8597461763748779\n"
     ]
    }
   ],
   "source": [
    "roc_auc_xgb=auc(fpr_knn,tpr_xgb)\n",
    "print(\"roc_auc_xgb :\",roc_auc_xgb)\n",
    "\n",
    "cm_xgb = confusion_matrix(y_test,pred_xgb)\n",
    "print(\"confusion_matrix :\",cm_xgb)\n",
    "\n",
    "as_xgb = accuracy_score(y_test,pred_xgb)\n",
    "print(\"Accuracy score :\",as_xgb)"
   ]
  },
  {
   "cell_type": "code",
   "execution_count": 124,
   "id": "cd79c238",
   "metadata": {},
   "outputs": [],
   "source": [
    "# print(\"Accuracy score of KNN :\",(as_knn)*100)\n",
    "# print(\"Accuracy score of Logistic Regression :\",(as_lr)*100)\n",
    "# print(\"Accuracy score of Naive Bayes :\",(as_gnb)*100)\n",
    "# print(\"Accuracy score of RandomForest :\",(as_rfc)*100)\n",
    "# print(\"Accuracy score of SVC :\",(as_svc)*100)\n",
    "# print(\"Accuracy score of XGBoost :\",(as_xgb)*100)"
   ]
  },
  {
   "cell_type": "markdown",
   "id": "d0d006bb",
   "metadata": {},
   "source": [
    "As SVC has more accuracy score compared to other algorithms,we test model with SVC algorithm"
   ]
  },
  {
   "cell_type": "code",
   "execution_count": 125,
   "id": "9fcee3d7",
   "metadata": {},
   "outputs": [
    {
     "data": {
      "text/html": [
       "<div>\n",
       "<style scoped>\n",
       "    .dataframe tbody tr th:only-of-type {\n",
       "        vertical-align: middle;\n",
       "    }\n",
       "\n",
       "    .dataframe tbody tr th {\n",
       "        vertical-align: top;\n",
       "    }\n",
       "\n",
       "    .dataframe thead th {\n",
       "        text-align: right;\n",
       "    }\n",
       "</style>\n",
       "<table border=\"1\" class=\"dataframe\">\n",
       "  <thead>\n",
       "    <tr style=\"text-align: right;\">\n",
       "      <th></th>\n",
       "      <th>Model</th>\n",
       "      <th>roc_auc</th>\n",
       "      <th>accuracy</th>\n",
       "    </tr>\n",
       "  </thead>\n",
       "  <tbody>\n",
       "    <tr>\n",
       "      <th>0</th>\n",
       "      <td>Decision Tree Classification</td>\n",
       "      <td>0.952330</td>\n",
       "      <td>0.960432</td>\n",
       "    </tr>\n",
       "    <tr>\n",
       "      <th>1</th>\n",
       "      <td>K-Nearest NEighbours</td>\n",
       "      <td>0.935210</td>\n",
       "      <td>0.935080</td>\n",
       "    </tr>\n",
       "    <tr>\n",
       "      <th>2</th>\n",
       "      <td>Logistic Regression</td>\n",
       "      <td>0.919698</td>\n",
       "      <td>0.919623</td>\n",
       "    </tr>\n",
       "    <tr>\n",
       "      <th>3</th>\n",
       "      <td>Naive Bayes Classification</td>\n",
       "      <td>0.903207</td>\n",
       "      <td>0.902864</td>\n",
       "    </tr>\n",
       "    <tr>\n",
       "      <th>4</th>\n",
       "      <td>RandomForest Classification</td>\n",
       "      <td>0.767514</td>\n",
       "      <td>0.764400</td>\n",
       "    </tr>\n",
       "    <tr>\n",
       "      <th>5</th>\n",
       "      <td>Support Vector Machine</td>\n",
       "      <td>0.936469</td>\n",
       "      <td>0.936707</td>\n",
       "    </tr>\n",
       "    <tr>\n",
       "      <th>6</th>\n",
       "      <td>XGBClassifier</td>\n",
       "      <td>0.958478</td>\n",
       "      <td>0.859746</td>\n",
       "    </tr>\n",
       "  </tbody>\n",
       "</table>\n",
       "</div>"
      ],
      "text/plain": [
       "                          Model   roc_auc  accuracy\n",
       "0  Decision Tree Classification  0.952330  0.960432\n",
       "1          K-Nearest NEighbours  0.935210  0.935080\n",
       "2           Logistic Regression  0.919698  0.919623\n",
       "3    Naive Bayes Classification  0.903207  0.902864\n",
       "4   RandomForest Classification  0.767514  0.764400\n",
       "5        Support Vector Machine  0.936469  0.936707\n",
       "6                 XGBClassifier  0.958478  0.859746"
      ]
     },
     "execution_count": 125,
     "metadata": {},
     "output_type": "execute_result"
    }
   ],
   "source": [
    "alg = pd.DataFrame({'Model':['Decision Tree Classification','K-Nearest NEighbours',\n",
    "                             'Logistic Regression','Naive Bayes Classification',\n",
    "                             'RandomForest Classification','Support Vector Machine','XGBClassifier'],\n",
    "                    'roc_auc':[roc_auc_dt,roc_auc_knn,roc_auc_lr,roc_auc_gnb,\n",
    "                              roc_auc_rfc,roc_auc_svc,roc_auc_xgb],\n",
    "                   'accuracy':[as_dt,as_knn,as_lr,as_gnb,as_rfc,as_svc,as_xgb]})\n",
    "alg"
   ]
  },
  {
   "cell_type": "code",
   "execution_count": 126,
   "id": "93b9c074",
   "metadata": {},
   "outputs": [
    {
     "name": "stdout",
     "output_type": "stream",
     "text": [
      "Best auc_roc is [[0.9584778]] by [['XGBClassifier']]\n",
      "Best accuracy is [[0.960432]] by [['Decision Tree Classification']]\n"
     ]
    }
   ],
   "source": [
    "maxa = 0\n",
    "for i in range(len(alg['Model'])):\n",
    "    if(alg.iloc[i:i+1,1:2]).values > maxa:\n",
    "        maxa = (alg.iloc[i:i+1,1:2]).values\n",
    "        model = (alg.iloc[i:i+1,0:1]).values\n",
    "print(f'Best auc_roc is {maxa} by {model}')\n",
    "maxa = 0\n",
    "for i in range(len(alg['Model'])):\n",
    "    if(alg.iloc[i:i+1,2:3]).values > maxa:\n",
    "        maxa = (alg.iloc[i:i+1,2:3]).values\n",
    "        model = (alg.iloc[i:i+1,0:1]).values\n",
    "print(f'Best accuracy is {maxa} by {model}')"
   ]
  },
  {
   "cell_type": "markdown",
   "id": "941ae015",
   "metadata": {},
   "source": [
    "Since maximum auc_roc and maximum accuracy are given by two different algorithms. We will go with model with more auc_roc,because AUC_ROC considers the trade-offs between precision and recall,whereas Accuracy only considers the number of correct predictions."
   ]
  },
  {
   "cell_type": "markdown",
   "id": "51c21568",
   "metadata": {},
   "source": [
    "## 6.Model Deployment"
   ]
  },
  {
   "cell_type": "code",
   "execution_count": 127,
   "id": "54884119",
   "metadata": {},
   "outputs": [],
   "source": [
    "# Saving the best model\n",
    "import pickle\n",
    "pickle.dump(xgb,open('ar_xgb.pkl','wb'))"
   ]
  },
  {
   "cell_type": "code",
   "execution_count": 128,
   "id": "3a6e1463",
   "metadata": {},
   "outputs": [],
   "source": [
    "## Integrate with Web framework"
   ]
  },
  {
   "cell_type": "code",
   "execution_count": null,
   "id": "ea139a9b",
   "metadata": {},
   "outputs": [],
   "source": []
  },
  {
   "cell_type": "code",
   "execution_count": null,
   "id": "2f88df3f",
   "metadata": {},
   "outputs": [],
   "source": []
  }
 ],
 "metadata": {
  "kernelspec": {
   "display_name": "Python 3 (ipykernel)",
   "language": "python",
   "name": "python3"
  },
  "language_info": {
   "codemirror_mode": {
    "name": "ipython",
    "version": 3
   },
   "file_extension": ".py",
   "mimetype": "text/x-python",
   "name": "python",
   "nbconvert_exporter": "python",
   "pygments_lexer": "ipython3",
   "version": "3.9.13"
  }
 },
 "nbformat": 4,
 "nbformat_minor": 5
}
